{
 "cells": [
  {
   "cell_type": "code",
   "execution_count": 5,
   "id": "245b88cf-5fad-4e1c-8bf2-8d493a54961f",
   "metadata": {
    "tags": []
   },
   "outputs": [
    {
     "name": "stdout",
     "output_type": "stream",
     "text": [
      "\n"
     ]
    }
   ],
   "source": [
    "!pip install numpy"
   ]
  },
  {
   "cell_type": "code",
   "execution_count": 3,
   "id": "8901c8a4-01ab-4083-85f6-a0ef01a5d388",
   "metadata": {
    "tags": []
   },
   "outputs": [],
   "source": [
    "import numpy as np"
   ]
  },
  {
   "cell_type": "code",
   "execution_count": 6,
   "id": "ac829b46-e4f5-41d7-b13a-9e4fd0fb5e31",
   "metadata": {
    "tags": []
   },
   "outputs": [],
   "source": [
    "l = range(100000)"
   ]
  },
  {
   "cell_type": "code",
   "execution_count": 7,
   "id": "d2ed3c51-abfd-4c15-95a8-ca44dc08dcb5",
   "metadata": {
    "tags": []
   },
   "outputs": [
    {
     "name": "stdout",
     "output_type": "stream",
     "text": [
      "6.69 ms ± 92.2 µs per loop (mean ± std. dev. of 7 runs, 100 loops each)\n"
     ]
    }
   ],
   "source": [
    "%timeit [i**2 for i in l]"
   ]
  },
  {
   "cell_type": "code",
   "execution_count": 9,
   "id": "1d870efb-3b32-404e-bda1-852eb2319e5d",
   "metadata": {
    "tags": []
   },
   "outputs": [
    {
     "name": "stdout",
     "output_type": "stream",
     "text": [
      "44.6 µs ± 1.95 µs per loop (mean ± std. dev. of 7 runs, 10,000 loops each)\n"
     ]
    }
   ],
   "source": [
    "arr = np.array(l)\n",
    "%timeit arr**2"
   ]
  },
  {
   "cell_type": "raw",
   "id": "bac7f6eb-8dea-4c21-bfb8-30b2a5cff6d4",
   "metadata": {},
   "source": [
    "Dimensions and shapes"
   ]
  },
  {
   "cell_type": "code",
   "execution_count": 10,
   "id": "41c19c82-3d99-4440-8b52-7f6702f42ff6",
   "metadata": {
    "tags": []
   },
   "outputs": [
    {
     "data": {
      "text/plain": [
       "1"
      ]
     },
     "execution_count": 10,
     "metadata": {},
     "output_type": "execute_result"
    }
   ],
   "source": [
    "a1 = np.array([1,2,3])\n",
    "a1.ndim"
   ]
  },
  {
   "cell_type": "code",
   "execution_count": 13,
   "id": "be309007-9b2d-4a5e-b40b-bf0d599cadd7",
   "metadata": {
    "tags": []
   },
   "outputs": [
    {
     "data": {
      "text/plain": [
       "(3,)"
      ]
     },
     "execution_count": 13,
     "metadata": {},
     "output_type": "execute_result"
    }
   ],
   "source": [
    "a1.shape #3 columns"
   ]
  },
  {
   "cell_type": "code",
   "execution_count": 11,
   "id": "c8b201d2-642f-4f68-a10f-429f0debd21a",
   "metadata": {
    "tags": []
   },
   "outputs": [
    {
     "data": {
      "text/plain": [
       "2"
      ]
     },
     "execution_count": 11,
     "metadata": {},
     "output_type": "execute_result"
    }
   ],
   "source": [
    "a2 = np.array([[1,2,3]])\n",
    "a2.ndim"
   ]
  },
  {
   "cell_type": "code",
   "execution_count": 14,
   "id": "83758ea7-1bf9-4556-8d39-6c6dfbe30bab",
   "metadata": {
    "tags": []
   },
   "outputs": [
    {
     "data": {
      "text/plain": [
       "(1, 3)"
      ]
     },
     "execution_count": 14,
     "metadata": {},
     "output_type": "execute_result"
    }
   ],
   "source": [
    "a2.shape #1 row with 3 columns"
   ]
  },
  {
   "cell_type": "code",
   "execution_count": 12,
   "id": "d98d76a3-cd75-4e3b-b8b6-3bdbdb093474",
   "metadata": {
    "tags": []
   },
   "outputs": [
    {
     "data": {
      "text/plain": [
       "3"
      ]
     },
     "execution_count": 12,
     "metadata": {},
     "output_type": "execute_result"
    }
   ],
   "source": [
    "a3 = np.array([[[1,2,3],[4,5,7]]])\n",
    "a3.ndim"
   ]
  },
  {
   "cell_type": "code",
   "execution_count": 15,
   "id": "baf6a960-77ad-4d11-b4ec-5b7744824e0e",
   "metadata": {
    "tags": []
   },
   "outputs": [
    {
     "data": {
      "text/plain": [
       "(1, 2, 3)"
      ]
     },
     "execution_count": 15,
     "metadata": {},
     "output_type": "execute_result"
    }
   ],
   "source": [
    "a3.shape #1 three dimension, 2 rows , 3 columns"
   ]
  },
  {
   "cell_type": "code",
   "execution_count": 16,
   "id": "9bebb7dd-003d-4683-afb2-1af86db7b4a9",
   "metadata": {
    "tags": []
   },
   "outputs": [
    {
     "data": {
      "text/plain": [
       "3"
      ]
     },
     "execution_count": 16,
     "metadata": {},
     "output_type": "execute_result"
    }
   ],
   "source": [
    "a4 = np.array([[[1,2,3],[4,5,6],[7,8,9]]])\n",
    "a4.ndim"
   ]
  },
  {
   "cell_type": "code",
   "execution_count": 17,
   "id": "4a0bb6f7-ea7a-40f2-a162-a6473588ac26",
   "metadata": {
    "tags": []
   },
   "outputs": [
    {
     "data": {
      "text/plain": [
       "(1, 3, 3)"
      ]
     },
     "execution_count": 17,
     "metadata": {},
     "output_type": "execute_result"
    }
   ],
   "source": [
    "a4.shape  #1 three dim, 3 rows, 3 columns"
   ]
  },
  {
   "cell_type": "code",
   "execution_count": 18,
   "id": "19a703a1-7e6f-4039-8ca9-5e350a8b6840",
   "metadata": {
    "tags": []
   },
   "outputs": [
    {
     "name": "stdout",
     "output_type": "stream",
     "text": [
      "1 (8,)\n"
     ]
    }
   ],
   "source": [
    "a = np.array([1,2,3,4,5,6,7,8])\n",
    "print(a.ndim, a.shape)"
   ]
  },
  {
   "cell_type": "markdown",
   "id": "a93493ca-f62a-4b9b-93ca-a0583695b024",
   "metadata": {},
   "source": [
    "np.arange"
   ]
  },
  {
   "cell_type": "code",
   "execution_count": 19,
   "id": "2aedc685-09ee-4cdd-aa1a-92111e1d06b6",
   "metadata": {
    "tags": []
   },
   "outputs": [
    {
     "data": {
      "text/plain": [
       "array([1, 2, 3, 4, 5, 6, 7, 8, 9])"
      ]
     },
     "execution_count": 19,
     "metadata": {},
     "output_type": "execute_result"
    }
   ],
   "source": [
    "np.arange(1,10)"
   ]
  },
  {
   "cell_type": "code",
   "execution_count": 20,
   "id": "c45dcc9a-3339-4f9e-a0f1-13501eb720a5",
   "metadata": {
    "tags": []
   },
   "outputs": [
    {
     "ename": "TypeError",
     "evalue": "'float' object cannot be interpreted as an integer",
     "output_type": "error",
     "traceback": [
      "\u001b[1;31m---------------------------------------------------------------------------\u001b[0m",
      "\u001b[1;31mTypeError\u001b[0m                                 Traceback (most recent call last)",
      "Cell \u001b[1;32mIn[20], line 1\u001b[0m\n\u001b[1;32m----> 1\u001b[0m \u001b[38;5;28mlist\u001b[39m(\u001b[38;5;28mrange\u001b[39m(\u001b[38;5;241m1\u001b[39m,\u001b[38;5;241m10\u001b[39m,\u001b[38;5;241m0.2\u001b[39m))\n",
      "\u001b[1;31mTypeError\u001b[0m: 'float' object cannot be interpreted as an integer"
     ]
    }
   ],
   "source": [
    "list(range(1,10,0.2)) # step 0.2 not possible with python"
   ]
  },
  {
   "cell_type": "code",
   "execution_count": 22,
   "id": "ecf345dd-e9df-42f6-93ba-52e0f952fb17",
   "metadata": {
    "tags": []
   },
   "outputs": [
    {
     "data": {
      "text/plain": [
       "array([1. , 1.2, 1.4, 1.6, 1.8, 2. , 2.2, 2.4, 2.6, 2.8, 3. , 3.2, 3.4,\n",
       "       3.6, 3.8, 4. , 4.2, 4.4, 4.6, 4.8, 5. , 5.2, 5.4, 5.6, 5.8, 6. ,\n",
       "       6.2, 6.4, 6.6, 6.8, 7. , 7.2, 7.4, 7.6, 7.8, 8. , 8.2, 8.4, 8.6,\n",
       "       8.8, 9. , 9.2, 9.4, 9.6, 9.8])"
      ]
     },
     "execution_count": 22,
     "metadata": {},
     "output_type": "execute_result"
    }
   ],
   "source": [
    "np.arange(1,10,0.2) # possible with numpy"
   ]
  },
  {
   "cell_type": "raw",
   "id": "e1128bd0-8133-4143-a16a-53683bca7f98",
   "metadata": {},
   "source": [
    "In np.arange(), we can pass a floating point number as step-size."
   ]
  },
  {
   "cell_type": "code",
   "execution_count": 23,
   "id": "b0dd284a-cca9-4c4f-8d60-d4a855c1ee08",
   "metadata": {
    "tags": []
   },
   "outputs": [
    {
     "data": {
      "text/plain": [
       "array(['1', 'User', 'True', '1.3'], dtype='<U32')"
      ]
     },
     "execution_count": 23,
     "metadata": {},
     "output_type": "execute_result"
    }
   ],
   "source": [
    "np.array([1,'User',True, 1.3])"
   ]
  },
  {
   "cell_type": "raw",
   "id": "dd1e72fe-fa7f-4c40-9fae-cbb0087b766d",
   "metadata": {},
   "source": [
    "str > float > int > bool #convert in this priority"
   ]
  },
  {
   "cell_type": "code",
   "execution_count": 25,
   "id": "fee44deb-3839-457b-84d1-1b981b4b74ce",
   "metadata": {
    "tags": []
   },
   "outputs": [
    {
     "data": {
      "text/plain": [
       "dtype('float64')"
      ]
     },
     "execution_count": 25,
     "metadata": {},
     "output_type": "execute_result"
    }
   ],
   "source": [
    "np.array([1,True, 1.3]).dtype"
   ]
  },
  {
   "cell_type": "code",
   "execution_count": 29,
   "id": "88327f72-d056-4cdb-9055-47db986fc487",
   "metadata": {
    "tags": []
   },
   "outputs": [
    {
     "data": {
      "text/plain": [
       "array([1. , 1. , 1.3])"
      ]
     },
     "execution_count": 29,
     "metadata": {},
     "output_type": "execute_result"
    }
   ],
   "source": [
    "np.array([1,True,1.3])"
   ]
  },
  {
   "cell_type": "code",
   "execution_count": 26,
   "id": "4149e7b6-7151-43e3-bde6-797de87e431b",
   "metadata": {
    "tags": []
   },
   "outputs": [
    {
     "data": {
      "text/plain": [
       "dtype('int32')"
      ]
     },
     "execution_count": 26,
     "metadata": {},
     "output_type": "execute_result"
    }
   ],
   "source": [
    "np.array([1,True]).dtype"
   ]
  },
  {
   "cell_type": "code",
   "execution_count": 27,
   "id": "c015b570-4525-4ba9-b439-8f09d073803c",
   "metadata": {
    "tags": []
   },
   "outputs": [
    {
     "data": {
      "text/plain": [
       "array([1, 1])"
      ]
     },
     "execution_count": 27,
     "metadata": {},
     "output_type": "execute_result"
    }
   ],
   "source": [
    "np.array([1,True])"
   ]
  },
  {
   "cell_type": "code",
   "execution_count": 30,
   "id": "bcfce0ff-0f47-4ae0-b6d3-4d90d023b9c2",
   "metadata": {
    "tags": []
   },
   "outputs": [
    {
     "data": {
      "text/plain": [
       "array([ True])"
      ]
     },
     "execution_count": 30,
     "metadata": {},
     "output_type": "execute_result"
    }
   ],
   "source": [
    "np.array([True])"
   ]
  },
  {
   "cell_type": "code",
   "execution_count": 31,
   "id": "556d3522-4f3d-40b7-92c7-51d7337f74fc",
   "metadata": {
    "tags": []
   },
   "outputs": [
    {
     "data": {
      "text/plain": [
       "dtype('bool')"
      ]
     },
     "execution_count": 31,
     "metadata": {},
     "output_type": "execute_result"
    }
   ],
   "source": [
    "np.array([True]).dtype"
   ]
  },
  {
   "cell_type": "code",
   "execution_count": 32,
   "id": "344b7a89-789e-427c-a94e-17579fb358a1",
   "metadata": {
    "tags": []
   },
   "outputs": [
    {
     "ename": "TypeError",
     "evalue": "array() takes from 1 to 2 positional arguments but 3 were given",
     "output_type": "error",
     "traceback": [
      "\u001b[1;31m---------------------------------------------------------------------------\u001b[0m",
      "\u001b[1;31mTypeError\u001b[0m                                 Traceback (most recent call last)",
      "Cell \u001b[1;32mIn[32], line 1\u001b[0m\n\u001b[1;32m----> 1\u001b[0m np\u001b[38;5;241m.\u001b[39marray(\u001b[38;5;241m1\u001b[39m,\u001b[38;5;241m2\u001b[39m,\u001b[38;5;241m3\u001b[39m)\n",
      "\u001b[1;31mTypeError\u001b[0m: array() takes from 1 to 2 positional arguments but 3 were given"
     ]
    }
   ],
   "source": [
    "np.array(1,2,3)"
   ]
  },
  {
   "cell_type": "code",
   "execution_count": 34,
   "id": "eca5941b-428a-44c4-8a06-b10bdfa8d8a2",
   "metadata": {
    "tags": []
   },
   "outputs": [
    {
     "data": {
      "text/plain": [
       "array([1., 2., 3.])"
      ]
     },
     "execution_count": 34,
     "metadata": {},
     "output_type": "execute_result"
    }
   ],
   "source": [
    "np.array([1,2,3],dtype='float') # convert into float, use dtype inside array"
   ]
  },
  {
   "cell_type": "code",
   "execution_count": 35,
   "id": "542c4594-8084-400c-8e8d-e57373cc303c",
   "metadata": {
    "tags": []
   },
   "outputs": [
    {
     "data": {
      "text/plain": [
       "array([1., 2., 3.])"
      ]
     },
     "execution_count": 35,
     "metadata": {},
     "output_type": "execute_result"
    }
   ],
   "source": [
    "np.array([1,2,3]).astype('float')  # use astype outside of array"
   ]
  },
  {
   "cell_type": "code",
   "execution_count": 36,
   "id": "462277c9-f152-4735-a47b-aaabbd76c787",
   "metadata": {
    "tags": []
   },
   "outputs": [
    {
     "ename": "ValueError",
     "evalue": "could not convert string to float: 'aaa'",
     "output_type": "error",
     "traceback": [
      "\u001b[1;31m---------------------------------------------------------------------------\u001b[0m",
      "\u001b[1;31mValueError\u001b[0m                                Traceback (most recent call last)",
      "Cell \u001b[1;32mIn[36], line 1\u001b[0m\n\u001b[1;32m----> 1\u001b[0m np\u001b[38;5;241m.\u001b[39marray([\u001b[38;5;124m'\u001b[39m\u001b[38;5;124maaa\u001b[39m\u001b[38;5;124m'\u001b[39m,\u001b[38;5;124m'\u001b[39m\u001b[38;5;124mbbb\u001b[39m\u001b[38;5;124m'\u001b[39m,\u001b[38;5;124m'\u001b[39m\u001b[38;5;124mccc\u001b[39m\u001b[38;5;124m'\u001b[39m])\u001b[38;5;241m.\u001b[39mastype(\u001b[38;5;124m'\u001b[39m\u001b[38;5;124mfloat\u001b[39m\u001b[38;5;124m'\u001b[39m)\n",
      "\u001b[1;31mValueError\u001b[0m: could not convert string to float: 'aaa'"
     ]
    }
   ],
   "source": [
    "np.array(['aaa','bbb','ccc']).astype('float') # error"
   ]
  },
  {
   "cell_type": "code",
   "execution_count": 37,
   "id": "18873a9c-8ac5-4c14-a745-861172655f07",
   "metadata": {
    "tags": []
   },
   "outputs": [
    {
     "data": {
      "text/plain": [
       "array([ True,  True,  True])"
      ]
     },
     "execution_count": 37,
     "metadata": {},
     "output_type": "execute_result"
    }
   ],
   "source": [
    "np.array((1,2,3),dtype='bool')"
   ]
  },
  {
   "cell_type": "code",
   "execution_count": 40,
   "id": "ba1f3670-ad9c-47a9-a12c-a6d548b9a770",
   "metadata": {
    "tags": []
   },
   "outputs": [
    {
     "data": {
      "text/plain": [
       "array([10, 20, 30, 40, 50, 60, 70, 80, 90])"
      ]
     },
     "execution_count": 40,
     "metadata": {},
     "output_type": "execute_result"
    }
   ],
   "source": [
    "a = np.array(range(10,91,10))\n",
    "a"
   ]
  },
  {
   "cell_type": "code",
   "execution_count": 41,
   "id": "bf165f87-39e1-4bd3-ad93-8aa7b4e73d60",
   "metadata": {
    "tags": []
   },
   "outputs": [
    {
     "data": {
      "text/plain": [
       "array([10., 20., 30., 40., 50., 60., 70., 80., 90.])"
      ]
     },
     "execution_count": 41,
     "metadata": {},
     "output_type": "execute_result"
    }
   ],
   "source": [
    "np.array(range(10,91,10),dtype='float')"
   ]
  },
  {
   "cell_type": "code",
   "execution_count": 42,
   "id": "13a5f46d-fe95-40a9-8f81-9fad01301bdd",
   "metadata": {
    "tags": []
   },
   "outputs": [
    {
     "data": {
      "text/plain": [
       "array([10., 20., 30., 40., 50., 60., 70., 80., 90.])"
      ]
     },
     "execution_count": 42,
     "metadata": {},
     "output_type": "execute_result"
    }
   ],
   "source": [
    "np.array(range(10,91,10)).astype('float')"
   ]
  },
  {
   "cell_type": "raw",
   "id": "202a26d5-9fe5-40ce-bf25-74382859d7aa",
   "metadata": {},
   "source": [
    "Problem solving"
   ]
  },
  {
   "cell_type": "code",
   "execution_count": 51,
   "id": "3732f5b0-f70b-4f98-b5b2-6e8a7373408a",
   "metadata": {
    "tags": []
   },
   "outputs": [
    {
     "data": {
      "text/plain": [
       "array([22, 24, 26, 28, 30, 32, 34, 36, 38, 40, 42, 44, 46, 48, 50, 52, 54,\n",
       "       56, 58, 60, 62, 64, 66, 68, 70])"
      ]
     },
     "execution_count": 51,
     "metadata": {},
     "output_type": "execute_result"
    }
   ],
   "source": [
    "# 1\n",
    "#  even numbers between 21 and 70 (70 inclusive)\n",
    "np.arange(22,71,2)"
   ]
  },
  {
   "cell_type": "code",
   "execution_count": 54,
   "id": "79af3fe8-70e1-4e8a-bb2b-3769846e1803",
   "metadata": {
    "tags": []
   },
   "outputs": [
    {
     "data": {
      "text/plain": [
       "array([21, 23, 25, 27, 29, 31, 33, 35, 37, 39, 41, 43, 45, 47, 49, 51, 53,\n",
       "       55, 57, 59, 61, 63, 65, 67, 69, 71])"
      ]
     },
     "execution_count": 54,
     "metadata": {},
     "output_type": "execute_result"
    }
   ],
   "source": [
    "# 1\n",
    "#  odd numbers between 20 and 71 (71 inclusive)\n",
    "np.arange(21,72,2)"
   ]
  },
  {
   "cell_type": "code",
   "execution_count": 58,
   "id": "d3908e83-9058-408d-bb5b-287d61be9ee0",
   "metadata": {
    "tags": []
   },
   "outputs": [
    {
     "data": {
      "text/plain": [
       "array([10., 20., 30., 40., 50.])"
      ]
     },
     "execution_count": 58,
     "metadata": {},
     "output_type": "execute_result"
    }
   ],
   "source": [
    "# 2\n",
    "import numpy as np\n",
    "arr = np.array([10, 20, 30, 40, 50])\n",
    "arr.astype('float64')"
   ]
  },
  {
   "cell_type": "code",
   "execution_count": 43,
   "id": "e5abc696-7c08-4847-8b77-dbd616be9379",
   "metadata": {
    "tags": []
   },
   "outputs": [
    {
     "name": "stdout",
     "output_type": "stream",
     "text": [
      "[2 3 4]\n"
     ]
    }
   ],
   "source": [
    "#3\n",
    "a=np.arange(10) # 0,1,2,3,4,5,6,7,8,9\n",
    "print(a[2:5]) #2,3,4"
   ]
  },
  {
   "cell_type": "code",
   "execution_count": 48,
   "id": "be0a1392-a3b4-4c23-8cdb-c7dcf731cf8d",
   "metadata": {
    "tags": []
   },
   "outputs": [
    {
     "name": "stdout",
     "output_type": "stream",
     "text": [
      "[  5  -9  20  25   3  -5  16 -10  -8]\n"
     ]
    }
   ],
   "source": [
    "#4\n",
    "x = np.array([-5, 9 , 20 , 25, -3, 5, 16, 10,-8])\n",
    "# print(x[(x >= -5) & (x <= 15)])  # -5  9  -3  5  10 \n",
    "x[(x >= -5) & (x <= 15)] *= -1 # -5, 9,-3,5,10  \n",
    "# print(x[(x >= -5) & (x <= 15)] *= -1)\n",
    "print(x) #-9,3,-5,-10"
   ]
  },
  {
   "cell_type": "code",
   "execution_count": 133,
   "id": "12c4548c-166a-4d20-84bd-a4faed3457bf",
   "metadata": {
    "tags": []
   },
   "outputs": [
    {
     "data": {
      "text/plain": [
       "array([ 5,  8, 11, 14, 17, 20, 23, 26, 29, 32])"
      ]
     },
     "execution_count": 133,
     "metadata": {},
     "output_type": "execute_result"
    }
   ],
   "source": [
    "# # 7\n",
    "# Sample Input: 5 10 3\n",
    "# Sample Output: [5 8 11 14 17 20 23 26 29 32]\n",
    "# Start of the sequence = 5, length of the sequence = 10 and step = 3.\n",
    "# First point would be the start point only, second point = start + 1*step = 5 + 1*3 =8, ....... 10th point = start + (10-1)*step = 5 + 9*3 = 32\n",
    "# Note: You can use either .arange() or .linspace() to solve this question.\n",
    "\n",
    "5+np.arange(0,10)*3"
   ]
  },
  {
   "cell_type": "code",
   "execution_count": 126,
   "id": "cdea9770-c3f3-4729-9f97-8d6975f7224e",
   "metadata": {
    "tags": []
   },
   "outputs": [
    {
     "data": {
      "text/plain": [
       "array([5, 8])"
      ]
     },
     "execution_count": 126,
     "metadata": {},
     "output_type": "execute_result"
    }
   ],
   "source": [
    "# 7\n",
    "np.arange(5,10,3)"
   ]
  },
  {
   "cell_type": "code",
   "execution_count": 122,
   "id": "c80009d4-442b-46a3-91fc-72bb871b22ef",
   "metadata": {
    "tags": []
   },
   "outputs": [
    {
     "data": {
      "text/plain": [
       "array([5. , 5.5, 6. , 6.5])"
      ]
     },
     "execution_count": 122,
     "metadata": {},
     "output_type": "execute_result"
    }
   ],
   "source": [
    "# 8\n",
    "arr = np.arange(5,7,0.5)\n",
    "np.round(arr,decimals=2)"
   ]
  },
  {
   "cell_type": "code",
   "execution_count": 135,
   "id": "c22fe6de-b65a-41c6-9fee-bff3bb08f8cd",
   "metadata": {
    "tags": []
   },
   "outputs": [
    {
     "data": {
      "text/plain": [
       "array([2.  , 2.33, 2.66, 2.99, 3.32, 3.65, 3.98, 4.31, 4.64, 4.97])"
      ]
     },
     "execution_count": 135,
     "metadata": {},
     "output_type": "execute_result"
    }
   ],
   "source": [
    "start,end,step = 2,5,0.33\n",
    "arr = np.arange(start,end,step)\n",
    "arr = np.round(arr,decimals=2)\n",
    "arr"
   ]
  },
  {
   "cell_type": "code",
   "execution_count": 136,
   "id": "874b01d7-8e2a-475a-bc60-b30efef7efac",
   "metadata": {
    "tags": []
   },
   "outputs": [
    {
     "name": "stdout",
     "output_type": "stream",
     "text": [
      "[False  True False  True]\n"
     ]
    }
   ],
   "source": [
    "a = np.array([100, 200, 300, 400])\n",
    "b = np.array([300, 200, 100, 400])\n",
    "print(a == b)"
   ]
  },
  {
   "cell_type": "code",
   "execution_count": 137,
   "id": "5d09058d-c981-4c3c-b894-a85be5953298",
   "metadata": {
    "tags": []
   },
   "outputs": [
    {
     "name": "stdout",
     "output_type": "stream",
     "text": [
      "6\n"
     ]
    }
   ],
   "source": [
    "import numpy as np\n",
    "arr = np.array([1, 2, 3, 4])\n",
    "print(arr[2] + arr[-2])"
   ]
  },
  {
   "cell_type": "code",
   "execution_count": 140,
   "id": "a9b35f18-533d-4e10-b3c1-b17b1da25980",
   "metadata": {
    "tags": []
   },
   "outputs": [],
   "source": [
    "arr = np.array([10, 12, 15, 17, 2, 5, 4, 6])"
   ]
  },
  {
   "cell_type": "code",
   "execution_count": 141,
   "id": "d5b00598-43f5-490d-826d-2c951beeacca",
   "metadata": {
    "tags": []
   },
   "outputs": [
    {
     "data": {
      "text/plain": [
       "array([10, 15,  2,  4])"
      ]
     },
     "execution_count": 141,
     "metadata": {},
     "output_type": "execute_result"
    }
   ],
   "source": [
    "arr[[0,2,4,6]]"
   ]
  },
  {
   "cell_type": "code",
   "execution_count": 143,
   "id": "f470f198-16e1-432f-8843-0be0e7149fc5",
   "metadata": {
    "tags": []
   },
   "outputs": [
    {
     "ename": "IndexError",
     "evalue": "too many indices for array: array is 1-dimensional, but 4 were indexed",
     "output_type": "error",
     "traceback": [
      "\u001b[1;31m---------------------------------------------------------------------------\u001b[0m",
      "\u001b[1;31mIndexError\u001b[0m                                Traceback (most recent call last)",
      "Cell \u001b[1;32mIn[143], line 1\u001b[0m\n\u001b[1;32m----> 1\u001b[0m arr[\u001b[38;5;241m0\u001b[39m,\u001b[38;5;241m2\u001b[39m,\u001b[38;5;241m4\u001b[39m,\u001b[38;5;241m6\u001b[39m]\n",
      "\u001b[1;31mIndexError\u001b[0m: too many indices for array: array is 1-dimensional, but 4 were indexed"
     ]
    }
   ],
   "source": [
    "arr[0,2,4,6]"
   ]
  },
  {
   "cell_type": "code",
   "execution_count": 144,
   "id": "a3d930c9-cd5c-47a6-b611-4becf280cb7a",
   "metadata": {
    "tags": []
   },
   "outputs": [
    {
     "data": {
      "text/plain": [
       "array([10, 15,  2,  4])"
      ]
     },
     "execution_count": 144,
     "metadata": {},
     "output_type": "execute_result"
    }
   ],
   "source": [
    "arr[::2]"
   ]
  },
  {
   "cell_type": "code",
   "execution_count": 145,
   "id": "d96f3087-6fba-4358-8c3f-6e421e98f313",
   "metadata": {
    "tags": []
   },
   "outputs": [
    {
     "name": "stdout",
     "output_type": "stream",
     "text": [
      "[10  2 20  4 30  6 40  8]\n"
     ]
    }
   ],
   "source": [
    "arr = np.array([1,2,3,4,5,6,7,8])\n",
    "arr[::2] = range(10,50,10)\n",
    "print(arr)"
   ]
  },
  {
   "cell_type": "code",
   "execution_count": 156,
   "id": "4531013e-cecd-46e9-8749-6919a3cea65b",
   "metadata": {
    "tags": []
   },
   "outputs": [
    {
     "data": {
      "text/plain": [
       "1.5"
      ]
     },
     "execution_count": 156,
     "metadata": {},
     "output_type": "execute_result"
    }
   ],
   "source": [
    "import numpy as np\n",
    "def ratio(marks_arr):\n",
    "    # Complete the missing code\n",
    "    distinction = marks_arr[marks_arr >= 80] # Use masking to get the values\n",
    "    first_div = marks_arr[(marks_arr >=60) & (marks_arr < 80)] # Use masking to get the values\n",
    "    \n",
    "    distinction_count = len(distinction)\n",
    "    first_div_count = len(first_div)\n",
    "    \n",
    "    ratio = distinction_count / first_div_count\n",
    "    \n",
    "    return round(ratio,2)\n",
    "\n",
    "ratio(np.array([20, 35, 68, 82, 83, 70, 90]))"
   ]
  },
  {
   "cell_type": "code",
   "execution_count": 148,
   "id": "6b687cf3-152f-42e2-843d-54bfe9534b10",
   "metadata": {
    "tags": []
   },
   "outputs": [
    {
     "data": {
      "text/plain": [
       "array([82, 83, 90])"
      ]
     },
     "execution_count": 148,
     "metadata": {},
     "output_type": "execute_result"
    }
   ],
   "source": [
    "arr = np.array([20, 35, 68, 82, 83, 70, 90])\n",
    "arr[arr>=80]"
   ]
  },
  {
   "cell_type": "code",
   "execution_count": 154,
   "id": "2ad49311-e2c2-4e4e-a103-836604b79623",
   "metadata": {
    "tags": []
   },
   "outputs": [
    {
     "data": {
      "text/plain": [
       "array([68, 70])"
      ]
     },
     "execution_count": 154,
     "metadata": {},
     "output_type": "execute_result"
    }
   ],
   "source": [
    "arr[(arr>=60) & (arr<80)]"
   ]
  },
  {
   "cell_type": "code",
   "execution_count": 155,
   "id": "36ebd020-ae53-4ccd-9dc0-ab42551d6256",
   "metadata": {
    "tags": []
   },
   "outputs": [
    {
     "data": {
      "text/plain": [
       "array([20, 35])"
      ]
     },
     "execution_count": 155,
     "metadata": {},
     "output_type": "execute_result"
    }
   ],
   "source": [
    "arr[arr<60]"
   ]
  },
  {
   "cell_type": "code",
   "execution_count": 157,
   "id": "be023c1b-785c-4ca3-9f1a-cfecf11b51ab",
   "metadata": {
    "tags": []
   },
   "outputs": [
    {
     "data": {
      "text/plain": [
       "(array([3, 4, 6], dtype=int64),)"
      ]
     },
     "execution_count": 157,
     "metadata": {},
     "output_type": "execute_result"
    }
   ],
   "source": [
    "np.where(arr>=80)"
   ]
  },
  {
   "cell_type": "code",
   "execution_count": 158,
   "id": "de9ea019-86f5-41ad-91c2-c7fab8893cc5",
   "metadata": {
    "tags": []
   },
   "outputs": [
    {
     "data": {
      "text/plain": [
       "(array([2, 5], dtype=int64),)"
      ]
     },
     "execution_count": 158,
     "metadata": {},
     "output_type": "execute_result"
    }
   ],
   "source": [
    "np.where((arr>=60) & (arr<80))"
   ]
  },
  {
   "cell_type": "code",
   "execution_count": null,
   "id": "84ec86f3-5972-48f9-b1aa-3a88698dd6e4",
   "metadata": {},
   "outputs": [],
   "source": []
  }
 ],
 "metadata": {
  "kernelspec": {
   "display_name": "Python 3 (ipykernel)",
   "language": "python",
   "name": "python3"
  },
  "language_info": {
   "codemirror_mode": {
    "name": "ipython",
    "version": 3
   },
   "file_extension": ".py",
   "mimetype": "text/x-python",
   "name": "python",
   "nbconvert_exporter": "python",
   "pygments_lexer": "ipython3",
   "version": "3.11.5"
  }
 },
 "nbformat": 4,
 "nbformat_minor": 5
}

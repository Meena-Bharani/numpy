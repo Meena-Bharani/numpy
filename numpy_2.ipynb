{
 "cells": [
  {
   "cell_type": "code",
   "execution_count": 1,
   "id": "9dd812d3",
   "metadata": {},
   "outputs": [],
   "source": [
    "import numpy as np"
   ]
  },
  {
   "cell_type": "code",
   "execution_count": 21,
   "id": "5d1a5403",
   "metadata": {},
   "outputs": [
    {
     "name": "stdout",
     "output_type": "stream",
     "text": [
      "condition doesn't satisfy\n"
     ]
    }
   ],
   "source": [
    "# 1\n",
    "#  arr has at least one value smaller than or equal to 0.6. \n",
    "# use np.any in if condition\n",
    "arr = 2 * np.arange(0,2,0.5)\n",
    "if np.any(arr) <= 0.6:\n",
    "    print(\"condition satisfies\")\n",
    "else:\n",
    "    print(\"condition doesn't satisfy\") "
   ]
  },
  {
   "cell_type": "code",
   "execution_count": 20,
   "id": "ec3e8bbe",
   "metadata": {},
   "outputs": [
    {
     "name": "stdout",
     "output_type": "stream",
     "text": [
      "1.0\n"
     ]
    }
   ],
   "source": [
    "# 2\n",
    "\n",
    "x = np.array([[200,200,200],[300,300,300],[400,400,400]])\n",
    "v = np.array([200,300,400])\n",
    "print((x / v[:,None])[1][1]) "
   ]
  },
  {
   "cell_type": "code",
   "execution_count": 13,
   "id": "37f8aa57",
   "metadata": {},
   "outputs": [
    {
     "name": "stdout",
     "output_type": "stream",
     "text": [
      "21\n"
     ]
    }
   ],
   "source": [
    "p = np.array([[0], [10], [20]])\n",
    "q = np.array([10, 11, 12]) \n",
    "print((p + q)[1][1]) "
   ]
  },
  {
   "cell_type": "code",
   "execution_count": 11,
   "id": "bffa79de",
   "metadata": {},
   "outputs": [
    {
     "name": "stdout",
     "output_type": "stream",
     "text": [
      "[16 81 33  5  6  1]\n"
     ]
    }
   ],
   "source": [
    "# 3\n",
    "# flatten() function is used to transform a multi-dimensional array into a one-dimensional array.\n",
    "# In other words, it \"flattens\" a multi-dimensional array structure into a simple linear sequence.\n",
    "\n",
    "a = np.array([[16, 5], [81, 6], [33, 1]])\n",
    "x=np.transpose(a).reshape(2,3)\n",
    "print(x.flatten())"
   ]
  },
  {
   "cell_type": "code",
   "execution_count": 3,
   "id": "d41d1cca",
   "metadata": {},
   "outputs": [
    {
     "data": {
      "text/plain": [
       "array([85, 57, 65, 44])"
      ]
     },
     "execution_count": 3,
     "metadata": {},
     "output_type": "execute_result"
    }
   ],
   "source": [
    "# 4\n",
    "arr = np.array([85, 18, 2, 57, 65, 44])\n",
    "mask = arr>40\n",
    "arr[mask]\n",
    "# arr[arr>40]"
   ]
  },
  {
   "cell_type": "code",
   "execution_count": 22,
   "id": "15ac8626",
   "metadata": {},
   "outputs": [
    {
     "name": "stdout",
     "output_type": "stream",
     "text": [
      "56\n"
     ]
    }
   ],
   "source": [
    "# 5\n",
    "a = np.array([[34, 28,55], [8, 56, 3], [77, 87, 19]])\n",
    "print(a.transpose()[-2,-2])\n",
    "# [[34  28  55\n",
    "#  8  56   3\n",
    "# 77  87  19]]\n",
    "# T=>[[   34 8  77\n",
    "#         28 56 87\n",
    "#         55 3  19  ]]\n",
    "\n",
    "### 56"
   ]
  },
  {
   "cell_type": "raw",
   "id": "2322ed21",
   "metadata": {},
   "source": [
    "#  Given a numpy array and target value k,\n",
    "Return True if all elements of array satisfy all below given conditions\n",
    "Multiple of 2\n",
    "Greater than k"
   ]
  },
  {
   "cell_type": "code",
   "execution_count": 51,
   "id": "203165cf",
   "metadata": {},
   "outputs": [
    {
     "name": "stdout",
     "output_type": "stream",
     "text": [
      "False\n"
     ]
    }
   ],
   "source": [
    "def check_conditions(arr, k):\n",
    "    '''\n",
    "    INPUT: arr, k\n",
    "    OUTPUT: result -> bool\n",
    "    '''\n",
    "    result = None\n",
    "    ## STEP 1 : Create mask for the given condition\n",
    "    arr = np.array(arr)\n",
    "    mask = ((arr%2==0) & (arr>k))\n",
    "    ## STEP 2: Use logical function on mask\n",
    "    result = mask.all()\n",
    "    return result\n",
    "\n",
    "# print(check_conditions([8, 12, 16, 20],4))\n",
    "print(check_conditions([1,2,3,4,5],4))"
   ]
  },
  {
   "cell_type": "code",
   "execution_count": 58,
   "id": "640f7ec3",
   "metadata": {},
   "outputs": [
    {
     "data": {
      "text/plain": [
       "array([[7, 4, 1],\n",
       "       [8, 5, 2],\n",
       "       [9, 6, 3]])"
      ]
     },
     "execution_count": 58,
     "metadata": {},
     "output_type": "execute_result"
    }
   ],
   "source": [
    "mat = np.array([[1, 2, 3],\n",
    " [4, 5, 6],\n",
    " [7, 8, 9]])\n",
    "mat[::-1].T\n"
   ]
  },
  {
   "cell_type": "raw",
   "id": "bd1b4391",
   "metadata": {},
   "source": [
    "Given a 2d array, write a program to return a subarray such that the subarray consists of the elements from:\n",
    "\n",
    "1. the second to the fourth row of the original array,\n",
    "\n",
    "2. the elements in these rows should be from the last three columns of the corresponding rows of the original array,\n",
    "\n",
    "3. the rows should be in reversed order."
   ]
  },
  {
   "cell_type": "code",
   "execution_count": 74,
   "id": "9ca3bb98",
   "metadata": {},
   "outputs": [
    {
     "name": "stdout",
     "output_type": "stream",
     "text": [
      "[[13 14 15]\n",
      " [ 9 10 11]\n",
      " [ 5  6  7]]\n"
     ]
    }
   ],
   "source": [
    "def extract_subarray(arr):\n",
    "    '''\n",
    "    INPUT: arr -> 2D array\n",
    "    \n",
    "    OUPUT: result -> 2D array\n",
    "    '''    \n",
    "    ### STEP1: Get the rows (2nd  to 4th row)    \n",
    "    row_array = arr[1:4]    \n",
    "#     print(row_array)\n",
    "\n",
    "    #### STEP 2: Get the last 3 cols from the row array    \n",
    "    cols_array = row_array[:,-3:]\n",
    "#     print(cols_array)\n",
    "    \n",
    "    #### STEP3: Reverse the rows in cols array    \n",
    "    result = cols_array[::-1]\n",
    "    return result\n",
    "\n",
    "arr = np.array([[ 0,  1,  2,  3],  \n",
    " [ 4,  5,  6,  7],   \n",
    " [ 8,  9, 10, 11],   \n",
    " [12, 13, 14, 15],   \n",
    " [16, 17, 18, 19]])\n",
    "print(extract_subarray(arr))"
   ]
  },
  {
   "cell_type": "raw",
   "id": "a076bdbc",
   "metadata": {},
   "source": [
    "Given a 2D numpy array, return array with its values in the column reversed."
   ]
  },
  {
   "cell_type": "code",
   "execution_count": 86,
   "id": "cdeb9875",
   "metadata": {},
   "outputs": [
    {
     "name": "stdout",
     "output_type": "stream",
     "text": [
      "[[2 1 0]\n",
      " [5 4 3]\n",
      " [8 7 6]]\n"
     ]
    }
   ],
   "source": [
    "def reverse_column(arr):\n",
    "    '''\n",
    "    INPUT: arr -> 2D array \n",
    "    \n",
    "    OUTPUT rev_arr -> 2D array\n",
    "    '''\n",
    "#     a = []\n",
    "#     for i in range(len(arr)):\n",
    "#         a.append(arr[i][::-1])\n",
    "        \n",
    "    rev_arr = np.fliplr(arr)\n",
    "    \n",
    "    return rev_arr\n",
    "\n",
    "arr = np.array([[0, 1, 2], \n",
    " [3, 4, 5], \n",
    " [6, 7, 8]])\n",
    "print(reverse_column(arr))"
   ]
  },
  {
   "cell_type": "code",
   "execution_count": 94,
   "id": "72af868b",
   "metadata": {},
   "outputs": [
    {
     "name": "stdout",
     "output_type": "stream",
     "text": [
      "[6, 7, 8, 9]\n"
     ]
    }
   ],
   "source": [
    "l = [1,2,3,4]\n",
    "m = 5\n",
    "print([i+m for i in l])"
   ]
  },
  {
   "cell_type": "code",
   "execution_count": 105,
   "id": "57ea778c",
   "metadata": {},
   "outputs": [
    {
     "name": "stdout",
     "output_type": "stream",
     "text": [
      "None\n",
      "[-1, -1, -1, 1, 2, 3, 4, 5]\n"
     ]
    }
   ],
   "source": [
    "def merge(A, n1, B, n2):\n",
    "    ans = None\n",
    "    # YOUR CODE GOES HERE\n",
    "    ans = A\n",
    "    ans.extend(B)\n",
    "#     ans = A.extend(B)\n",
    "    return sorted(ans)\n",
    "print(merge([-1,2,4],3,[-1,-1,1,3,5],5))"
   ]
  },
  {
   "cell_type": "code",
   "execution_count": 115,
   "id": "1cc77aa9",
   "metadata": {},
   "outputs": [
    {
     "name": "stdout",
     "output_type": "stream",
     "text": [
      "243\n"
     ]
    }
   ],
   "source": [
    "i = 0\n",
    "def bar(x,y):\n",
    "    if y==0:\n",
    "        return 0\n",
    "    global i\n",
    "    i += 1\n",
    "#     print(i,'(',x,'+bar(',x,',',y-1,'))')\n",
    "    return (x+bar(x,y-1))\n",
    "\n",
    "def foo(x,y):\n",
    "    if y==0:\n",
    "        return 1\n",
    "    global i\n",
    "    i += 1\n",
    "#     print(i,'bar(',x,', foo(,',x,',',y-1,'))')\n",
    "    return bar(x, foo(x,y-1))\n",
    "\n",
    "print(foo(3,5))"
   ]
  },
  {
   "cell_type": "code",
   "execution_count": 121,
   "id": "9ced906c",
   "metadata": {},
   "outputs": [
    {
     "name": "stdout",
     "output_type": "stream",
     "text": [
      "morning good \n"
     ]
    }
   ],
   "source": [
    "s = 'hello world'\n",
    "s='  good   morning'\n",
    "# s = '  '\n",
    "# '  test'\n",
    "result = ''\n",
    "for i in s.split(' '):\n",
    "    if i.strip():\n",
    "        result = i.strip() + ' '+ result\n",
    "print(result)"
   ]
  },
  {
   "cell_type": "code",
   "execution_count": 85,
   "id": "6bf3d9dc",
   "metadata": {},
   "outputs": [
    {
     "name": "stdout",
     "output_type": "stream",
     "text": [
      "Matrix before changing column order:\n",
      "\n",
      "['c1', 'c2', 'c3']\n",
      "[10, 20, 30]\n",
      "[40, 50, 60]\n",
      "[70, 80, 90]\n",
      "\n",
      "Matrix after changing column order:\n",
      "\n",
      "['c3', 'c2', 'c1']\n",
      "[30, 20, 10]\n",
      "[60, 50, 40]\n",
      "[90, 80, 70]\n"
     ]
    }
   ],
   "source": [
    "# creating a 3X4 matrix using nested lists\n",
    "matrix_1 = [['c1', 'c2', 'c3'],\n",
    "            [10, 20, 30],\n",
    "            [40, 50, 60],\n",
    "            [70, 80, 90]]\n",
    " \n",
    "# creating an empty array to store the reversed column matrix\n",
    "matrix_2 = []\n",
    " \n",
    "# looping through matrix_1 and appending matrix_2\n",
    "for i in range(len(matrix_1)):\n",
    "    matrix_2.append(matrix_1[i][::-1])\n",
    " \n",
    "print('Matrix before changing column order:\\n')\n",
    "for rows in matrix_1:\n",
    "    print(rows)\n",
    "print('\\nMatrix after changing column order:\\n')\n",
    "for rows in matrix_2:\n",
    "    print(rows)"
   ]
  },
  {
   "cell_type": "code",
   "execution_count": 79,
   "id": "68a7f857",
   "metadata": {},
   "outputs": [
    {
     "name": "stdout",
     "output_type": "stream",
     "text": [
      "[[ 6  8  7 28 56 19]]\n"
     ]
    }
   ],
   "source": [
    "a = np.array([[6, 28], [8, 56], [7, 19]])\n",
    "x = np.transpose(a).reshape(1,6)\n",
    "print(x)\n",
    "# 6,8,7\n",
    "# 28,56,19\n"
   ]
  },
  {
   "cell_type": "raw",
   "id": "b6292109",
   "metadata": {},
   "source": [
    "Working with 2D arrays (Matrices)\n",
    "    Transpose\n",
    "    Indexing\n",
    "    Slicing\n",
    "    Fancy Indexing (Masking)\n",
    "Aggregate Functions\n",
    "Logical Operations\n",
    "    np.any()\n",
    "    np.all()\n",
    "    np.where()\n",
    "Use Case: Fitness data analysis"
   ]
  },
  {
   "cell_type": "code",
   "execution_count": 1,
   "id": "1326ee37",
   "metadata": {},
   "outputs": [],
   "source": [
    "# Working with 2D arrays (Matrices)\n",
    "import numpy as np"
   ]
  },
  {
   "cell_type": "code",
   "execution_count": 3,
   "id": "20773049",
   "metadata": {},
   "outputs": [
    {
     "data": {
      "text/plain": [
       "array([ 0,  1,  2,  3,  4,  5,  6,  7,  8,  9, 10, 11, 12, 13, 14, 15])"
      ]
     },
     "execution_count": 3,
     "metadata": {},
     "output_type": "execute_result"
    }
   ],
   "source": [
    "a = np.array(range(16))\n",
    "a"
   ]
  },
  {
   "cell_type": "code",
   "execution_count": 6,
   "id": "2b5ed271",
   "metadata": {},
   "outputs": [
    {
     "name": "stdout",
     "output_type": "stream",
     "text": [
      "(16,) 1\n"
     ]
    }
   ],
   "source": [
    "print(a.shape,a.ndim)"
   ]
  },
  {
   "cell_type": "code",
   "execution_count": 8,
   "id": "dc57e3d9",
   "metadata": {},
   "outputs": [
    {
     "data": {
      "text/plain": [
       "array([[ 0,  1,  2,  3],\n",
       "       [ 4,  5,  6,  7],\n",
       "       [ 8,  9, 10, 11],\n",
       "       [12, 13, 14, 15]])"
      ]
     },
     "execution_count": 8,
     "metadata": {},
     "output_type": "execute_result"
    }
   ],
   "source": [
    "# How can we convert this array to a 2-dimensional array?\n",
    "\n",
    "# a.reshape(8,2)\n",
    "a.reshape(4,4)"
   ]
  },
  {
   "cell_type": "code",
   "execution_count": 9,
   "id": "2bd68fc7",
   "metadata": {},
   "outputs": [
    {
     "ename": "ValueError",
     "evalue": "cannot reshape array of size 16 into shape (4,5)",
     "output_type": "error",
     "traceback": [
      "\u001b[1;31m---------------------------------------------------------------------------\u001b[0m",
      "\u001b[1;31mValueError\u001b[0m                                Traceback (most recent call last)",
      "Cell \u001b[1;32mIn[9], line 1\u001b[0m\n\u001b[1;32m----> 1\u001b[0m a\u001b[38;5;241m.\u001b[39mreshape(\u001b[38;5;241m4\u001b[39m,\u001b[38;5;241m5\u001b[39m)\n",
      "\u001b[1;31mValueError\u001b[0m: cannot reshape array of size 16 into shape (4,5)"
     ]
    }
   ],
   "source": [
    "a.reshape(4,5)  # 4 x 5 =20 elements are not satisfied"
   ]
  },
  {
   "cell_type": "code",
   "execution_count": 10,
   "id": "2c449b83",
   "metadata": {},
   "outputs": [
    {
     "data": {
      "text/plain": [
       "array([[ 0,  1],\n",
       "       [ 2,  3],\n",
       "       [ 4,  5],\n",
       "       [ 6,  7],\n",
       "       [ 8,  9],\n",
       "       [10, 11],\n",
       "       [12, 13],\n",
       "       [14, 15]])"
      ]
     },
     "execution_count": 10,
     "metadata": {},
     "output_type": "execute_result"
    }
   ],
   "source": [
    "a.reshape(8,-1) \n",
    "# Notice that Python automatically figured out what should be the replacement of -1 argument, given that the first argument is 8.\n",
    "# We can also put -1 as the first argument. As long as one argument is given, it will calculate the other one."
   ]
  },
  {
   "cell_type": "code",
   "execution_count": 11,
   "id": "12162f53",
   "metadata": {},
   "outputs": [
    {
     "ename": "ValueError",
     "evalue": "can only specify one unknown dimension",
     "output_type": "error",
     "traceback": [
      "\u001b[1;31m---------------------------------------------------------------------------\u001b[0m",
      "\u001b[1;31mValueError\u001b[0m                                Traceback (most recent call last)",
      "Cell \u001b[1;32mIn[11], line 1\u001b[0m\n\u001b[1;32m----> 1\u001b[0m a\u001b[38;5;241m.\u001b[39mreshape(\u001b[38;5;241m-\u001b[39m\u001b[38;5;241m1\u001b[39m,\u001b[38;5;241m-\u001b[39m\u001b[38;5;241m1\u001b[39m)\n",
      "\u001b[1;31mValueError\u001b[0m: can only specify one unknown dimension"
     ]
    }
   ],
   "source": [
    "a.reshape(-1,-1) # have to give atleast one dimension"
   ]
  },
  {
   "cell_type": "code",
   "execution_count": 12,
   "id": "75af881e",
   "metadata": {},
   "outputs": [
    {
     "data": {
      "text/plain": [
       "(8, 2)"
      ]
     },
     "execution_count": 12,
     "metadata": {},
     "output_type": "execute_result"
    }
   ],
   "source": [
    "a =a.reshape(8,2)\n",
    "len(a),len(a[0])"
   ]
  },
  {
   "cell_type": "raw",
   "id": "b0292026",
   "metadata": {},
   "source": [
    "Transpose"
   ]
  },
  {
   "cell_type": "code",
   "execution_count": 14,
   "id": "396e074a",
   "metadata": {},
   "outputs": [
    {
     "data": {
      "text/plain": [
       "array([[ 0,  1,  2,  3],\n",
       "       [ 4,  5,  6,  7],\n",
       "       [ 8,  9, 10, 11]])"
      ]
     },
     "execution_count": 14,
     "metadata": {},
     "output_type": "execute_result"
    }
   ],
   "source": [
    "a = np.arange(12).reshape(3,4)\n",
    "a"
   ]
  },
  {
   "cell_type": "code",
   "execution_count": 15,
   "id": "6a0062f3",
   "metadata": {},
   "outputs": [
    {
     "data": {
      "text/plain": [
       "(3, 4)"
      ]
     },
     "execution_count": 15,
     "metadata": {},
     "output_type": "execute_result"
    }
   ],
   "source": [
    "a.shape"
   ]
  },
  {
   "cell_type": "code",
   "execution_count": 16,
   "id": "d2adb67d",
   "metadata": {},
   "outputs": [
    {
     "data": {
      "text/plain": [
       "array([[ 0,  4,  8],\n",
       "       [ 1,  5,  9],\n",
       "       [ 2,  6, 10],\n",
       "       [ 3,  7, 11]])"
      ]
     },
     "execution_count": 16,
     "metadata": {},
     "output_type": "execute_result"
    }
   ],
   "source": [
    "a.T"
   ]
  },
  {
   "cell_type": "code",
   "execution_count": 17,
   "id": "513defaf",
   "metadata": {},
   "outputs": [
    {
     "data": {
      "text/plain": [
       "(4, 3)"
      ]
     },
     "execution_count": 17,
     "metadata": {},
     "output_type": "execute_result"
    }
   ],
   "source": [
    "a.T.shape"
   ]
  },
  {
   "cell_type": "raw",
   "id": "78efae1b",
   "metadata": {},
   "source": [
    "Indexing in 2D arrays"
   ]
  },
  {
   "cell_type": "markdown",
   "id": "172c806f",
   "metadata": {},
   "source": [
    "# <img src = https://d2beiqkhq929f0.cloudfront.net/public_assets/assets/000/054/693/original/2dnp.png?1697949471 height = \"600\" width = \"700\">"
   ]
  },
  {
   "cell_type": "code",
   "execution_count": 20,
   "id": "405e449f",
   "metadata": {
    "scrolled": true
   },
   "outputs": [
    {
     "data": {
      "text/plain": [
       "5"
      ]
     },
     "execution_count": 20,
     "metadata": {},
     "output_type": "execute_result"
    }
   ],
   "source": [
    "a[1][1]  #[R,C]"
   ]
  },
  {
   "cell_type": "code",
   "execution_count": 21,
   "id": "c3e2ada6",
   "metadata": {
    "scrolled": true
   },
   "outputs": [
    {
     "data": {
      "text/plain": [
       "5"
      ]
     },
     "execution_count": 21,
     "metadata": {},
     "output_type": "execute_result"
    }
   ],
   "source": [
    "a[1,1]"
   ]
  },
  {
   "cell_type": "code",
   "execution_count": 22,
   "id": "d36a6457",
   "metadata": {},
   "outputs": [],
   "source": [
    "m1 = np.array([100,200,300,400,500])"
   ]
  },
  {
   "cell_type": "code",
   "execution_count": 23,
   "id": "21528da1",
   "metadata": {},
   "outputs": [
    {
     "ename": "IndexError",
     "evalue": "too many indices for array: array is 1-dimensional, but 2 were indexed",
     "output_type": "error",
     "traceback": [
      "\u001b[1;31m---------------------------------------------------------------------------\u001b[0m",
      "\u001b[1;31mIndexError\u001b[0m                                Traceback (most recent call last)",
      "Cell \u001b[1;32mIn[23], line 1\u001b[0m\n\u001b[1;32m----> 1\u001b[0m m1[\u001b[38;5;241m1\u001b[39m,\u001b[38;5;241m1\u001b[39m]\n",
      "\u001b[1;31mIndexError\u001b[0m: too many indices for array: array is 1-dimensional, but 2 were indexed"
     ]
    }
   ],
   "source": [
    "m1[1,1]  #since m1 is 1D array. no Rows and columns"
   ]
  },
  {
   "cell_type": "code",
   "execution_count": 28,
   "id": "56ea1dc9",
   "metadata": {},
   "outputs": [
    {
     "data": {
      "text/plain": [
       "array([200, 400])"
      ]
     },
     "execution_count": 28,
     "metadata": {},
     "output_type": "execute_result"
    }
   ],
   "source": [
    "m1[[1,3]] # print indexes 1 and 3"
   ]
  },
  {
   "cell_type": "code",
   "execution_count": 30,
   "id": "480cce79",
   "metadata": {},
   "outputs": [
    {
     "data": {
      "text/plain": [
       "array([[0, 1, 2],\n",
       "       [3, 4, 5],\n",
       "       [6, 7, 8]])"
      ]
     },
     "execution_count": 30,
     "metadata": {},
     "output_type": "execute_result"
    }
   ],
   "source": [
    "m1 = np.arange(9).reshape(3,3)\n",
    "m1"
   ]
  },
  {
   "cell_type": "code",
   "execution_count": 31,
   "id": "b0896200",
   "metadata": {},
   "outputs": [
    {
     "data": {
      "text/plain": [
       "array([0, 4, 8])"
      ]
     },
     "execution_count": 31,
     "metadata": {},
     "output_type": "execute_result"
    }
   ],
   "source": [
    "m1[[0,1,2],[0,1,2]]  #elements from (0,0) (1,1) (2,2)\n",
    "                    # m1[0][0], m1[1][1],m1[2][2]"
   ]
  },
  {
   "cell_type": "raw",
   "id": "8d57ffc5",
   "metadata": {},
   "source": [
    "slicing 2D arrays"
   ]
  },
  {
   "cell_type": "code",
   "execution_count": 32,
   "id": "0118e8f5",
   "metadata": {},
   "outputs": [
    {
     "data": {
      "text/plain": [
       "array([[ 0,  1,  2,  3],\n",
       "       [ 4,  5,  6,  7],\n",
       "       [ 8,  9, 10, 11]])"
      ]
     },
     "execution_count": 32,
     "metadata": {},
     "output_type": "execute_result"
    }
   ],
   "source": [
    "m2=np.arange(12).reshape(3,4)\n",
    "m2"
   ]
  },
  {
   "cell_type": "code",
   "execution_count": 33,
   "id": "a6147cba",
   "metadata": {},
   "outputs": [
    {
     "data": {
      "text/plain": [
       "array([[0, 1, 2, 3],\n",
       "       [4, 5, 6, 7]])"
      ]
     },
     "execution_count": 33,
     "metadata": {},
     "output_type": "execute_result"
    }
   ],
   "source": [
    "m2[:2] #row 0 and 1 will be showing"
   ]
  },
  {
   "cell_type": "code",
   "execution_count": 34,
   "id": "e296efbf",
   "metadata": {},
   "outputs": [
    {
     "data": {
      "text/plain": [
       "array([[0, 1],\n",
       "       [4, 5],\n",
       "       [8, 9]])"
      ]
     },
     "execution_count": 34,
     "metadata": {},
     "output_type": "execute_result"
    }
   ],
   "source": [
    "m2[:,:2]  # gives first two columns [R:R,C:C]"
   ]
  },
  {
   "cell_type": "code",
   "execution_count": 35,
   "id": "e59f19d2",
   "metadata": {},
   "outputs": [
    {
     "data": {
      "text/plain": [
       "array([[ 1,  2],\n",
       "       [ 5,  6],\n",
       "       [ 9, 10]])"
      ]
     },
     "execution_count": 35,
     "metadata": {},
     "output_type": "execute_result"
    }
   ],
   "source": [
    "m2[:,1:3] # gives 2nd and 3rd col [:] => select entire matrix \n",
    "# [1:3] => select index col 1 to 2 (3-1)"
   ]
  },
  {
   "cell_type": "code",
   "execution_count": 122,
   "id": "1bb026ff",
   "metadata": {},
   "outputs": [
    {
     "data": {
      "text/plain": [
       "array([[ 0,  1,  2,  3],\n",
       "       [ 4,  5,  6,  7],\n",
       "       [ 8,  9, 10, 11]])"
      ]
     },
     "execution_count": 122,
     "metadata": {},
     "output_type": "execute_result"
    }
   ],
   "source": [
    "m2"
   ]
  },
  {
   "cell_type": "code",
   "execution_count": 123,
   "id": "923c55af",
   "metadata": {},
   "outputs": [
    {
     "data": {
      "text/plain": [
       "array([[ 8,  9, 10, 11]])"
      ]
     },
     "execution_count": 123,
     "metadata": {},
     "output_type": "execute_result"
    }
   ],
   "source": [
    "m2[2:3]"
   ]
  },
  {
   "cell_type": "code",
   "execution_count": 37,
   "id": "eb3e9cee",
   "metadata": {},
   "outputs": [
    {
     "data": {
      "text/plain": [
       "array([[9]])"
      ]
     },
     "execution_count": 37,
     "metadata": {},
     "output_type": "execute_result"
    }
   ],
   "source": [
    "m2[2:3,1:2]"
   ]
  },
  {
   "cell_type": "code",
   "execution_count": 126,
   "id": "c1736dc7",
   "metadata": {},
   "outputs": [
    {
     "data": {
      "text/plain": [
       "array([[ 5,  6],\n",
       "       [ 9, 10]])"
      ]
     },
     "execution_count": 126,
     "metadata": {},
     "output_type": "execute_result"
    }
   ],
   "source": [
    "m2[1:,1:3]"
   ]
  },
  {
   "cell_type": "code",
   "execution_count": 128,
   "id": "b86108a3",
   "metadata": {},
   "outputs": [
    {
     "data": {
      "text/plain": [
       "array([[ 0,  1,  2],\n",
       "       [ 3,  4,  5],\n",
       "       [ 6,  7,  8],\n",
       "       [ 9, 10, 11]])"
      ]
     },
     "execution_count": 128,
     "metadata": {},
     "output_type": "execute_result"
    }
   ],
   "source": [
    "m3 = m2.reshape(4,3)\n",
    "m3"
   ]
  },
  {
   "cell_type": "code",
   "execution_count": 129,
   "id": "fc1a9176",
   "metadata": {},
   "outputs": [
    {
     "data": {
      "text/plain": [
       "array([[4, 5],\n",
       "       [7, 8]])"
      ]
     },
     "execution_count": 129,
     "metadata": {},
     "output_type": "execute_result"
    }
   ],
   "source": [
    "m3[1:3,1:]"
   ]
  },
  {
   "cell_type": "code",
   "execution_count": 132,
   "id": "8102bfc5",
   "metadata": {},
   "outputs": [
    {
     "data": {
      "text/plain": [
       "6"
      ]
     },
     "execution_count": 132,
     "metadata": {},
     "output_type": "execute_result"
    }
   ],
   "source": [
    "# Can we extract just the element 6 from a?\n",
    "m3[2,0]"
   ]
  },
  {
   "cell_type": "code",
   "execution_count": 135,
   "id": "62d6f5cd",
   "metadata": {},
   "outputs": [
    {
     "data": {
      "text/plain": [
       "6"
      ]
     },
     "execution_count": 135,
     "metadata": {},
     "output_type": "execute_result"
    }
   ],
   "source": [
    "m3[2][0]"
   ]
  },
  {
   "cell_type": "code",
   "execution_count": 136,
   "id": "6a67c189",
   "metadata": {},
   "outputs": [
    {
     "data": {
      "text/plain": [
       "array([[1, 2, 3],\n",
       "       [4, 5, 6],\n",
       "       [7, 8, 9]])"
      ]
     },
     "execution_count": 136,
     "metadata": {},
     "output_type": "execute_result"
    }
   ],
   "source": [
    "m1 = np.arange(1,10).reshape(3,3)\n",
    "m1"
   ]
  },
  {
   "cell_type": "code",
   "execution_count": 137,
   "id": "8580aa32",
   "metadata": {},
   "outputs": [
    {
     "data": {
      "text/plain": [
       "5"
      ]
     },
     "execution_count": 137,
     "metadata": {},
     "output_type": "execute_result"
    }
   ],
   "source": [
    "m1[1,1] #[row,col]"
   ]
  },
  {
   "cell_type": "code",
   "execution_count": 138,
   "id": "0d72080d",
   "metadata": {},
   "outputs": [
    {
     "ename": "IndexError",
     "evalue": "too many indices for array: array is 1-dimensional, but 2 were indexed",
     "output_type": "error",
     "traceback": [
      "\u001b[1;31m---------------------------------------------------------------------------\u001b[0m",
      "\u001b[1;31mIndexError\u001b[0m                                Traceback (most recent call last)",
      "Cell \u001b[1;32mIn[138], line 2\u001b[0m\n\u001b[0;32m      1\u001b[0m m1 \u001b[38;5;241m=\u001b[39m np\u001b[38;5;241m.\u001b[39marray([\u001b[38;5;241m100\u001b[39m,\u001b[38;5;241m200\u001b[39m,\u001b[38;5;241m300\u001b[39m,\u001b[38;5;241m400\u001b[39m,\u001b[38;5;241m500\u001b[39m,\u001b[38;5;241m600\u001b[39m])\n\u001b[1;32m----> 2\u001b[0m m1[\u001b[38;5;241m2\u001b[39m,\u001b[38;5;241m3\u001b[39m]\n",
      "\u001b[1;31mIndexError\u001b[0m: too many indices for array: array is 1-dimensional, but 2 were indexed"
     ]
    }
   ],
   "source": [
    "m1 = np.array([100,200,300,400,500,600])\n",
    "m1[2,3]"
   ]
  },
  {
   "cell_type": "raw",
   "id": "e989a3cd",
   "metadata": {},
   "source": [
    "* Since m1 is a 1D array, this will not work.\n",
    "* This is because there are no row and column entity here.\n",
    "\n",
    "Therefore, you cannot use the same syntax for 1D arrays, as you did with 2D arrays, and vice-versa.\n",
    "\n",
    "However with a little tweak in this code, we can access elements of m1 at different positions/indices."
   ]
  },
  {
   "cell_type": "code",
   "execution_count": 139,
   "id": "45c59e94",
   "metadata": {},
   "outputs": [
    {
     "data": {
      "text/plain": [
       "array([100, 200, 300, 400, 500, 600])"
      ]
     },
     "execution_count": 139,
     "metadata": {},
     "output_type": "execute_result"
    }
   ],
   "source": [
    "m1"
   ]
  },
  {
   "cell_type": "code",
   "execution_count": 140,
   "id": "8dc004c3",
   "metadata": {},
   "outputs": [
    {
     "data": {
      "text/plain": [
       "array([300, 400])"
      ]
     },
     "execution_count": 140,
     "metadata": {},
     "output_type": "execute_result"
    }
   ],
   "source": [
    "m1[[2,3]]"
   ]
  },
  {
   "cell_type": "raw",
   "id": "3fd63b77",
   "metadata": {},
   "source": [
    "How will you print the diagonal elements of the following 2D array?"
   ]
  },
  {
   "cell_type": "code",
   "execution_count": 141,
   "id": "ec2864b3",
   "metadata": {},
   "outputs": [
    {
     "data": {
      "text/plain": [
       "array([[0, 1, 2],\n",
       "       [3, 4, 5],\n",
       "       [6, 7, 8]])"
      ]
     },
     "execution_count": 141,
     "metadata": {},
     "output_type": "execute_result"
    }
   ],
   "source": [
    "m1 = np.arange(9).reshape((3,3))\n",
    "m1"
   ]
  },
  {
   "cell_type": "code",
   "execution_count": 142,
   "id": "d349829b",
   "metadata": {},
   "outputs": [
    {
     "data": {
      "text/plain": [
       "array([0, 4, 8])"
      ]
     },
     "execution_count": 142,
     "metadata": {},
     "output_type": "execute_result"
    }
   ],
   "source": [
    "m1[[0,1,2],[0,1,2]] # picking m1[0][0]  m1[1][1]  m1[2][2]"
   ]
  },
  {
   "cell_type": "raw",
   "id": "a1ed0b9a",
   "metadata": {},
   "source": [
    "Slicing in 2D arrays\n",
    "* We need to provide two slice ranges, one for row and one for column.\n",
    "* We can also mix Indexing and Slicing"
   ]
  },
  {
   "cell_type": "code",
   "execution_count": 143,
   "id": "4099ea31",
   "metadata": {},
   "outputs": [
    {
     "data": {
      "text/plain": [
       "array([[ 0,  1,  2,  3],\n",
       "       [ 4,  5,  6,  7],\n",
       "       [ 8,  9, 10, 11]])"
      ]
     },
     "execution_count": 143,
     "metadata": {},
     "output_type": "execute_result"
    }
   ],
   "source": [
    "m1 = np.arange(12).reshape(3,4)\n",
    "m1"
   ]
  },
  {
   "cell_type": "code",
   "execution_count": 144,
   "id": "e24b9a6c",
   "metadata": {},
   "outputs": [
    {
     "data": {
      "text/plain": [
       "array([[0, 1, 2, 3],\n",
       "       [4, 5, 6, 7]])"
      ]
     },
     "execution_count": 144,
     "metadata": {},
     "output_type": "execute_result"
    }
   ],
   "source": [
    "m1[:2]"
   ]
  },
  {
   "cell_type": "code",
   "execution_count": 145,
   "id": "5a6d9d48",
   "metadata": {},
   "outputs": [
    {
     "data": {
      "text/plain": [
       "array([[ 1,  2],\n",
       "       [ 5,  6],\n",
       "       [ 9, 10]])"
      ]
     },
     "execution_count": 145,
     "metadata": {},
     "output_type": "execute_result"
    }
   ],
   "source": [
    "m1[:,1:3]"
   ]
  },
  {
   "cell_type": "raw",
   "id": "cd1bce45",
   "metadata": {},
   "source": [
    "Fancy indexinf (masking) in 2D arrays"
   ]
  },
  {
   "cell_type": "code",
   "execution_count": 146,
   "id": "242de946",
   "metadata": {},
   "outputs": [
    {
     "data": {
      "text/plain": [
       "array([[ 0,  1,  2,  3],\n",
       "       [ 4,  5,  6,  7],\n",
       "       [ 8,  9, 10, 11]])"
      ]
     },
     "execution_count": 146,
     "metadata": {},
     "output_type": "execute_result"
    }
   ],
   "source": [
    "m1"
   ]
  },
  {
   "cell_type": "code",
   "execution_count": 147,
   "id": "0e759dcf",
   "metadata": {},
   "outputs": [
    {
     "data": {
      "text/plain": [
       "array([[ True,  True,  True,  True],\n",
       "       [ True,  True, False, False],\n",
       "       [False, False, False, False]])"
      ]
     },
     "execution_count": 147,
     "metadata": {},
     "output_type": "execute_result"
    }
   ],
   "source": [
    "m1 < 6"
   ]
  },
  {
   "cell_type": "code",
   "execution_count": 148,
   "id": "8fe4c563",
   "metadata": {},
   "outputs": [
    {
     "data": {
      "text/plain": [
       "array([0, 1, 2, 3, 4, 5])"
      ]
     },
     "execution_count": 148,
     "metadata": {},
     "output_type": "execute_result"
    }
   ],
   "source": [
    "m1[m1 < 6]"
   ]
  },
  {
   "cell_type": "raw",
   "id": "8b0cca45",
   "metadata": {},
   "source": [
    "Aggregate Functions\n",
    "np.sum()"
   ]
  },
  {
   "cell_type": "code",
   "execution_count": 149,
   "id": "2af85de5",
   "metadata": {},
   "outputs": [
    {
     "data": {
      "text/plain": [
       "array([ 1,  2,  3,  4,  5,  6,  7,  8,  9, 10])"
      ]
     },
     "execution_count": 149,
     "metadata": {},
     "output_type": "execute_result"
    }
   ],
   "source": [
    "a = np.arange(1,11)\n",
    "a"
   ]
  },
  {
   "cell_type": "code",
   "execution_count": 150,
   "id": "f482321c",
   "metadata": {},
   "outputs": [
    {
     "data": {
      "text/plain": [
       "55"
      ]
     },
     "execution_count": 150,
     "metadata": {},
     "output_type": "execute_result"
    }
   ],
   "source": [
    "np.sum(a)"
   ]
  },
  {
   "cell_type": "raw",
   "id": "2f0630d6",
   "metadata": {},
   "source": [
    "What if we want to find the average value or median value of all the elements in an array?\n",
    "np.mean()\n",
    "It gives the us mean of all values in a numpy array."
   ]
  },
  {
   "cell_type": "code",
   "execution_count": 151,
   "id": "b1c57105",
   "metadata": {},
   "outputs": [
    {
     "data": {
      "text/plain": [
       "5.5"
      ]
     },
     "execution_count": 151,
     "metadata": {},
     "output_type": "execute_result"
    }
   ],
   "source": [
    "np.mean(a)"
   ]
  },
  {
   "cell_type": "raw",
   "id": "46b89289",
   "metadata": {},
   "source": [
    "Now, we want to find the minimum / maximum value in the array."
   ]
  },
  {
   "cell_type": "code",
   "execution_count": 152,
   "id": "35e5f85c",
   "metadata": {},
   "outputs": [
    {
     "data": {
      "text/plain": [
       "1"
      ]
     },
     "execution_count": 152,
     "metadata": {},
     "output_type": "execute_result"
    }
   ],
   "source": [
    "np.min(a)"
   ]
  },
  {
   "cell_type": "code",
   "execution_count": 153,
   "id": "e805559e",
   "metadata": {},
   "outputs": [
    {
     "data": {
      "text/plain": [
       "10"
      ]
     },
     "execution_count": 153,
     "metadata": {},
     "output_type": "execute_result"
    }
   ],
   "source": [
    "np.max(a)"
   ]
  },
  {
   "cell_type": "code",
   "execution_count": 154,
   "id": "11660673",
   "metadata": {},
   "outputs": [
    {
     "data": {
      "text/plain": [
       "array([[ 0,  1,  2,  3],\n",
       "       [ 4,  5,  6,  7],\n",
       "       [ 8,  9, 10, 11]])"
      ]
     },
     "execution_count": 154,
     "metadata": {},
     "output_type": "execute_result"
    }
   ],
   "source": [
    "a = np.arange(12).reshape(3,4)\n",
    "a"
   ]
  },
  {
   "cell_type": "code",
   "execution_count": 155,
   "id": "1e52f26c",
   "metadata": {},
   "outputs": [
    {
     "data": {
      "text/plain": [
       "66"
      ]
     },
     "execution_count": 155,
     "metadata": {},
     "output_type": "execute_result"
    }
   ],
   "source": [
    "np.sum(a)"
   ]
  },
  {
   "cell_type": "raw",
   "id": "69b6b732",
   "metadata": {},
   "source": [
    "What if we want to do the elements row-wise or column-wise?\n",
    " * By setting axis parameter\n",
    "\n",
    "What will np.sum(a, axis=0) do?\n",
    " * np.sum(a, axis=0) adds together values in different rows\n",
    " * axis = 0  →  Changes will happen along the vertical axis\n",
    " * Summation of values happen in the vertical direction.\n",
    " * Rows collapse/merge when we do axis=0.\n",
    "\n",
    "What if we specify axis=1?\n",
    " * np.sum(a, axis=1) adds together values in different columns\n",
    " * axis = 1  →  Changes will happen along the horizontal axis\n",
    " * Summation of values happen in the horizontal direction.\n",
    " * Columns collapse/merge when we do axis=1.\n"
   ]
  },
  {
   "cell_type": "code",
   "execution_count": 156,
   "id": "530f11e9",
   "metadata": {},
   "outputs": [
    {
     "data": {
      "text/plain": [
       "array([12, 15, 18, 21])"
      ]
     },
     "execution_count": 156,
     "metadata": {},
     "output_type": "execute_result"
    }
   ],
   "source": [
    "np.sum(a, axis=0)  # column sum"
   ]
  },
  {
   "cell_type": "code",
   "execution_count": 157,
   "id": "eb45361b",
   "metadata": {},
   "outputs": [
    {
     "data": {
      "text/plain": [
       "array([ 6, 22, 38])"
      ]
     },
     "execution_count": 157,
     "metadata": {},
     "output_type": "execute_result"
    }
   ],
   "source": [
    "np.sum(a, axis=1) # row sum"
   ]
  },
  {
   "cell_type": "code",
   "execution_count": null,
   "id": "8d740ce3",
   "metadata": {},
   "outputs": [],
   "source": [
    "Logical Operations\n",
    "What if we want to check whether \"any\" element of array follows a specific condition?\n",
    "np.any()\n",
    "returns True if any of the corresponding elements in the argument arrays follow the provided condition.\n",
    "Imagine you have a shopping list with items you need to buy, but you're not sure if you have enough money to buy everything.\n",
    "\n",
    "You want to check if there's at least one item on your list that you can afford.\n",
    "\n",
    "In this case, you can use np.any:"
   ]
  },
  {
   "cell_type": "code",
   "execution_count": 158,
   "id": "c38c8255",
   "metadata": {},
   "outputs": [
    {
     "name": "stdout",
     "output_type": "stream",
     "text": [
      "You can buy at least one item on your list!\n"
     ]
    }
   ],
   "source": [
    "# Prices of items on your shopping list\n",
    "prices = np.array([50, 45, 25, 20, 35])\n",
    "\n",
    "# Your budget\n",
    "budget = 30\n",
    "\n",
    "# Check if there's at least one item you can afford\n",
    "can_afford = np.any(prices <= budget)\n",
    "\n",
    "if can_afford:\n",
    "    print(\"You can buy at least one item on your list!\")\n",
    "else:\n",
    "    print(\"Sorry, nothing on your list fits your budget.\")"
   ]
  },
  {
   "cell_type": "raw",
   "id": "331b4029",
   "metadata": {},
   "source": [
    "What if we want to check whether \"all\" the elements in our array follow a specific condition?\n",
    "np.all()\n",
    "returns True if all the elements in the argument arrays follow the provided condition.\n",
    "Let's consider a scenario where you have a list of chores, and you want to make sure all the chores are done before you can play video games.\n",
    "\n",
    "You can use np.all to check if all the chores are completed."
   ]
  },
  {
   "cell_type": "code",
   "execution_count": 159,
   "id": "1d3010a6",
   "metadata": {},
   "outputs": [
    {
     "name": "stdout",
     "output_type": "stream",
     "text": [
      "Finish all your chores before you can play.\n"
     ]
    }
   ],
   "source": [
    "# Chores status: 1 for done, 0 for not done\n",
    "chores = np.array([1, 1, 1, 1, 0])\n",
    "\n",
    "# Check if all chores are done\n",
    "all_chores_done = np.all(chores == 1)\n",
    "\n",
    "if all_chores_done:\n",
    "    print(\"Great job! You've completed all your chores. Time to play!\")\n",
    "else:\n",
    "    print(\"Finish all your chores before you can play.\")\n"
   ]
  },
  {
   "cell_type": "raw",
   "id": "5baae642",
   "metadata": {},
   "source": [
    "Multiple conditions for .all() function -"
   ]
  },
  {
   "cell_type": "code",
   "execution_count": 160,
   "id": "12ff464b",
   "metadata": {},
   "outputs": [
    {
     "data": {
      "text/plain": [
       "True"
      ]
     },
     "execution_count": 160,
     "metadata": {},
     "output_type": "execute_result"
    }
   ],
   "source": [
    "a = np.array([1, 2, 3, 2])\n",
    "b = np.array([2, 2, 3, 2])\n",
    "c = np.array([6, 4, 4, 5])\n",
    "\n",
    "((a <= b) & (b <= c)).all()"
   ]
  },
  {
   "cell_type": "raw",
   "id": "6a19800f",
   "metadata": {},
   "source": [
    "What if we want to update an array based on condition?\n",
    "Suppose you are given an array of integers and you want to update it based on following condition :\n",
    "\n",
    "if element is > 0, change it to +1\n",
    "if element < 0, change it to -1."
   ]
  },
  {
   "cell_type": "code",
   "execution_count": 161,
   "id": "4e30bf0f",
   "metadata": {},
   "outputs": [
    {
     "data": {
      "text/plain": [
       "array([ -3,   4,  27,  34,  -2,   0, -45, -11,   4,   0])"
      ]
     },
     "execution_count": 161,
     "metadata": {},
     "output_type": "execute_result"
    }
   ],
   "source": [
    "arr = np.array([-3,4,27,34,-2, 0, -45,-11,4, 0 ])\n",
    "arr"
   ]
  },
  {
   "cell_type": "code",
   "execution_count": 162,
   "id": "f8b14c92",
   "metadata": {},
   "outputs": [
    {
     "data": {
      "text/plain": [
       "array([ 4, 27, 34,  4])"
      ]
     },
     "execution_count": 162,
     "metadata": {},
     "output_type": "execute_result"
    }
   ],
   "source": [
    "arr[arr>0] "
   ]
  },
  {
   "cell_type": "code",
   "execution_count": 164,
   "id": "ef3e4cc3",
   "metadata": {},
   "outputs": [
    {
     "data": {
      "text/plain": [
       "array([ -3,   1,   1,   1,  -2,   0, -45, -11,   1,   0])"
      ]
     },
     "execution_count": 164,
     "metadata": {},
     "output_type": "execute_result"
    }
   ],
   "source": [
    "arr[arr>0] =1\n",
    "arr"
   ]
  },
  {
   "cell_type": "code",
   "execution_count": 165,
   "id": "825b3501",
   "metadata": {},
   "outputs": [
    {
     "data": {
      "text/plain": [
       "array([ -3,  -2, -45, -11])"
      ]
     },
     "execution_count": 165,
     "metadata": {},
     "output_type": "execute_result"
    }
   ],
   "source": [
    "arr[arr <0]"
   ]
  },
  {
   "cell_type": "code",
   "execution_count": 167,
   "id": "36623e02",
   "metadata": {},
   "outputs": [
    {
     "data": {
      "text/plain": [
       "array([-1,  1,  1,  1, -1,  0, -1, -1,  1,  0])"
      ]
     },
     "execution_count": 167,
     "metadata": {},
     "output_type": "execute_result"
    }
   ],
   "source": [
    "arr[arr< 0] =-1\n",
    "arr"
   ]
  },
  {
   "cell_type": "code",
   "execution_count": 168,
   "id": "966f8d0d",
   "metadata": {},
   "outputs": [
    {
     "data": {
      "text/plain": [
       "array([-1,  1,  1,  1, -1,  0, -1, -1,  1,  0])"
      ]
     },
     "execution_count": 168,
     "metadata": {},
     "output_type": "execute_result"
    }
   ],
   "source": [
    "arr"
   ]
  },
  {
   "cell_type": "raw",
   "id": "522f1c88",
   "metadata": {},
   "source": [
    "np.where()\n",
    "Syntax: np.where(condition, [x, y])\n",
    "returns an ndarray whose elements are chosen from x or y depending on condition."
   ]
  },
  {
   "cell_type": "raw",
   "id": "6eab280e",
   "metadata": {},
   "source": [
    "Suppose you have a list of product prices, and you want to apply a 10% discount to all products with prices above $50.\n",
    "\n",
    "You can use np.where to adjust the prices."
   ]
  },
  {
   "cell_type": "code",
   "execution_count": 170,
   "id": "332badbb",
   "metadata": {},
   "outputs": [
    {
     "name": "stdout",
     "output_type": "stream",
     "text": [
      "Original prices: [45 55 60 75 40 90]\n",
      "Discounted prices: [45.  49.5 54.  67.5 40.  81. ]\n"
     ]
    }
   ],
   "source": [
    "# Product prices\n",
    "prices = np.array([45, 55, 60, 75, 40, 90])\n",
    "\n",
    "# Apply a 10% discount to prices above $50\n",
    "discounted_prices = np.where(prices > 50, prices * .9,prices)\n",
    "\n",
    "print(\"Original prices:\", prices)\n",
    "print(\"Discounted prices:\", discounted_prices)"
   ]
  },
  {
   "cell_type": "code",
   "execution_count": null,
   "id": "ff7fa021",
   "metadata": {},
   "outputs": [],
   "source": []
  },
  {
   "cell_type": "raw",
   "id": "e44cbbf2",
   "metadata": {},
   "source": [
    "Use Case: Fitness data analysis"
   ]
  },
  {
   "cell_type": "raw",
   "id": "6ffdebfa",
   "metadata": {},
   "source": [
    "Imagine you are a Data Scientist at Fitbit\n",
    "\n",
    "You've been given a user data to analyse and find some insights which can be shown on the smart watch.\n",
    "\n",
    "\n",
    "But why would we want to analyse the user data for desiging the watch?\n",
    "\n",
    "These insights from the user data can help business make customer oriented decision for the product design.\n",
    "\n",
    "\n",
    "Let's first look at the data we have gathered."
   ]
  },
  {
   "cell_type": "raw",
   "id": "d3d5fabd",
   "metadata": {},
   "source": [
    "Basic EDA\n",
    "\n",
    "Performing Exploratory Data Analysis (EDA) is like being a detective for numbers and information.\n",
    "\n",
    "Imagine you have a big box of colorful candies. EDA is like looking at all the candies, counting how many of each color there are, and maybe even making a pretty picture to show which colors you have the most of. This way, you can learn a lot about your candies without eating them all at once!\n",
    "\n",
    "So, EDA is about looking at your things, which is data in this case, to understand them better and find out interesting stuff about them.\n",
    "\n",
    "Formally defining, Exploratory Data Analysis (EDA) is a process of examining, summarizing, and visualizing data sets to understand their main characteristics, uncover patterns that helps analysts and data scientists gain insights into the data, make informed decisions, and guide further analysis or modeling."
   ]
  },
  {
   "cell_type": "code",
   "execution_count": 172,
   "id": "55249798",
   "metadata": {},
   "outputs": [
    {
     "data": {
      "text/plain": [
       "array([['06-10-2017', '5464', 'Neutral', '181', '5', 'Inactive'],\n",
       "       ['07-10-2017', '6041', 'Sad', '197', '8', 'Inactive'],\n",
       "       ['08-10-2017', '25', 'Sad', '0', '5', 'Inactive'],\n",
       "       ['09-10-2017', '5461', 'Sad', '174', '4', 'Inactive'],\n",
       "       ['10-10-2017', '6915', 'Neutral', '223', '5', 'Active'],\n",
       "       ['11-10-2017', '4545', 'Sad', '149', '6', 'Inactive'],\n",
       "       ['12-10-2017', '4340', 'Sad', '140', '6', 'Inactive'],\n",
       "       ['13-10-2017', '1230', 'Sad', '38', '7', 'Inactive'],\n",
       "       ['14-10-2017', '61', 'Sad', '1', '5', 'Inactive'],\n",
       "       ['15-10-2017', '1258', 'Sad', '40', '6', 'Inactive'],\n",
       "       ['16-10-2017', '3148', 'Sad', '101', '8', 'Inactive'],\n",
       "       ['17-10-2017', '4687', 'Sad', '152', '5', 'Inactive'],\n",
       "       ['18-10-2017', '4732', 'Happy', '150', '6', 'Active'],\n",
       "       ['19-10-2017', '3519', 'Sad', '113', '7', 'Inactive'],\n",
       "       ['20-10-2017', '1580', 'Sad', '49', '5', 'Inactive'],\n",
       "       ['21-10-2017', '2822', 'Sad', '86', '6', 'Inactive'],\n",
       "       ['22-10-2017', '181', 'Sad', '6', '8', 'Inactive'],\n",
       "       ['23-10-2017', '3158', 'Neutral', '99', '5', 'Inactive'],\n",
       "       ['24-10-2017', '4383', 'Neutral', '143', '4', 'Inactive'],\n",
       "       ['25-10-2017', '3881', 'Neutral', '125', '5', 'Inactive'],\n",
       "       ['26-10-2017', '4037', 'Neutral', '129', '6', 'Inactive'],\n",
       "       ['27-10-2017', '202', 'Neutral', '6', '8', 'Inactive'],\n",
       "       ['28-10-2017', '292', 'Neutral', '9', '5', 'Inactive'],\n",
       "       ['29-10-2017', '330', 'Happy', '10', '6', 'Inactive'],\n",
       "       ['30-10-2017', '2209', 'Neutral', '72', '5', 'Inactive'],\n",
       "       ['31-10-2017', '4550', 'Happy', '150', '8', 'Active'],\n",
       "       ['01-11-2017', '4435', 'Happy', '141', '5', 'Inactive'],\n",
       "       ['02-11-2017', '4779', 'Happy', '156', '4', 'Inactive'],\n",
       "       ['03-11-2017', '1831', 'Happy', '57', '5', 'Inactive'],\n",
       "       ['04-11-2017', '2255', 'Happy', '72', '4', 'Inactive'],\n",
       "       ['05-11-2017', '539', 'Happy', '17', '5', 'Active'],\n",
       "       ['06-11-2017', '5464', 'Happy', '181', '4', 'Inactive'],\n",
       "       ['07-11-2017', '6041', 'Neutral', '197', '3', 'Inactive'],\n",
       "       ['08-11-2017', '4068', 'Happy', '131', '2', 'Inactive'],\n",
       "       ['09-11-2017', '4683', 'Happy', '154', '9', 'Inactive'],\n",
       "       ['10-11-2017', '4033', 'Happy', '137', '5', 'Inactive'],\n",
       "       ['11-11-2017', '6314', 'Happy', '193', '6', 'Active'],\n",
       "       ['12-11-2017', '614', 'Happy', '19', '4', 'Active'],\n",
       "       ['13-11-2017', '3149', 'Happy', '101', '5', 'Active'],\n",
       "       ['14-11-2017', '4005', 'Happy', '139', '8', 'Active'],\n",
       "       ['15-11-2017', '4880', 'Happy', '164', '4', 'Active'],\n",
       "       ['16-11-2017', '4136', 'Happy', '137', '5', 'Active'],\n",
       "       ['17-11-2017', '705', 'Happy', '22', '6', 'Active'],\n",
       "       ['18-11-2017', '570', 'Neutral', '17', '5', 'Active'],\n",
       "       ['19-11-2017', '269', 'Happy', '9', '6', 'Active'],\n",
       "       ['20-11-2017', '4275', 'Happy', '145', '5', 'Inactive'],\n",
       "       ['21-11-2017', '5999', 'Happy', '192', '6', 'Inactive'],\n",
       "       ['22-11-2017', '4421', 'Happy', '146', '5', 'Inactive'],\n",
       "       ['23-11-2017', '6930', 'Happy', '234', '6', 'Inactive'],\n",
       "       ['24-11-2017', '5195', 'Happy', '167', '5', 'Inactive'],\n",
       "       ['25-11-2017', '546', 'Happy', '16', '6', 'Inactive'],\n",
       "       ['26-11-2017', '493', 'Happy', '17', '7', 'Active'],\n",
       "       ['27-11-2017', '995', 'Happy', '32', '6', 'Active'],\n",
       "       ['28-11-2017', '1163', 'Neutral', '35', '7', 'Active'],\n",
       "       ['29-11-2017', '6676', 'Sad', '220', '6', 'Active'],\n",
       "       ['30-11-2017', '3608', 'Happy', '116', '5', 'Active'],\n",
       "       ['01-12-2017', '774', 'Happy', '23', '6', 'Active'],\n",
       "       ['02-12-2017', '1421', 'Happy', '44', '7', 'Active'],\n",
       "       ['03-12-2017', '4064', 'Happy', '131', '8', 'Active'],\n",
       "       ['04-12-2017', '2725', 'Happy', '86', '8', 'Active'],\n",
       "       ['05-12-2017', '5934', 'Happy', '194', '7', 'Active'],\n",
       "       ['06-12-2017', '1867', 'Happy', '60', '8', 'Active'],\n",
       "       ['07-12-2017', '3721', 'Sad', '121', '5', 'Active'],\n",
       "       ['08-12-2017', '2374', 'Neutral', '76', '4', 'Inactive'],\n",
       "       ['09-12-2017', '2909', 'Neutral', '93', '3', 'Active'],\n",
       "       ['10-12-2017', '1648', 'Sad', '53', '3', 'Active'],\n",
       "       ['11-12-2017', '799', 'Sad', '25', '4', 'Inactive'],\n",
       "       ['12-12-2017', '7102', 'Neutral', '227', '5', 'Active'],\n",
       "       ['13-12-2017', '3941', 'Neutral', '125', '5', 'Active'],\n",
       "       ['14-12-2017', '7422', 'Happy', '243', '5', 'Active'],\n",
       "       ['15-12-2017', '437', 'Neutral', '14', '3', 'Active'],\n",
       "       ['16-12-2017', '1231', 'Neutral', '39', '4', 'Active'],\n",
       "       ['17-12-2017', '1696', 'Sad', '55', '4', 'Inactive'],\n",
       "       ['18-12-2017', '4921', 'Neutral', '158', '5', 'Active'],\n",
       "       ['19-12-2017', '221', 'Sad', '7', '5', 'Active'],\n",
       "       ['20-12-2017', '6500', 'Neutral', '213', '5', 'Active'],\n",
       "       ['21-12-2017', '3575', 'Neutral', '116', '5', 'Active'],\n",
       "       ['22-12-2017', '4061', 'Sad', '129', '5', 'Inactive'],\n",
       "       ['23-12-2017', '651', 'Sad', '21', '5', 'Inactive'],\n",
       "       ['24-12-2017', '753', 'Sad', '28', '4', 'Inactive'],\n",
       "       ['25-12-2017', '518', 'Sad', '16', '3', 'Inactive'],\n",
       "       ['26-12-2017', '5537', 'Happy', '180', '4', 'Active'],\n",
       "       ['27-12-2017', '4108', 'Neutral', '138', '5', 'Active'],\n",
       "       ['28-12-2017', '5376', 'Happy', '176', '5', 'Active'],\n",
       "       ['29-12-2017', '3066', 'Neutral', '99', '4', 'Active'],\n",
       "       ['30-12-2017', '177', 'Sad', '5', '5', 'Inactive'],\n",
       "       ['31-12-2017', '36', 'Sad', '1', '3', 'Inactive'],\n",
       "       ['01-01-2018', '299', 'Sad', '10', '3', 'Inactive'],\n",
       "       ['02-01-2018', '1447', 'Neutral', '47', '3', 'Inactive'],\n",
       "       ['03-01-2018', '2599', 'Neutral', '84', '2', 'Inactive'],\n",
       "       ['04-01-2018', '702', 'Sad', '23', '3', 'Inactive'],\n",
       "       ['05-01-2018', '133', 'Sad', '4', '2', 'Inactive'],\n",
       "       ['06-01-2018', '153', 'Happy', '0', '8', 'Inactive'],\n",
       "       ['07-01-2018', '500', 'Neutral', '0', '5', 'Active'],\n",
       "       ['08-01-2018', '2127', 'Neutral', '0', '5', 'Inactive'],\n",
       "       ['09-01-2018', '2203', 'Happy', '0', '5', 'Active']], dtype='<U10')"
      ]
     },
     "execution_count": 172,
     "metadata": {},
     "output_type": "execute_result"
    }
   ],
   "source": [
    "data = np.loadtxt('C:\\\\Users\\\\jujju\\\\SharedFolder\\\\Coding\\\\Numpy\\\\fit.txt',dtype='str')\n",
    "data\n",
    "# We provide the file name along with the dtype of data that we want to load in."
   ]
  },
  {
   "cell_type": "code",
   "execution_count": 173,
   "id": "158970d4",
   "metadata": {},
   "outputs": [
    {
     "name": "stdout",
     "output_type": "stream",
     "text": [
      "(96, 6) 2\n"
     ]
    }
   ],
   "source": [
    "print(data.shape, data.ndim)"
   ]
  },
  {
   "cell_type": "code",
   "execution_count": 174,
   "id": "96ad9c2b",
   "metadata": {},
   "outputs": [
    {
     "data": {
      "text/plain": [
       "array(['06-10-2017', '5464', 'Neutral', '181', '5', 'Inactive'],\n",
       "      dtype='<U10')"
      ]
     },
     "execution_count": 174,
     "metadata": {},
     "output_type": "execute_result"
    }
   ],
   "source": [
    "data[0]"
   ]
  },
  {
   "cell_type": "code",
   "execution_count": 175,
   "id": "db128194",
   "metadata": {},
   "outputs": [
    {
     "data": {
      "text/plain": [
       "array([['06-10-2017', '5464', 'Neutral', '181', '5', 'Inactive'],\n",
       "       ['07-10-2017', '6041', 'Sad', '197', '8', 'Inactive'],\n",
       "       ['08-10-2017', '25', 'Sad', '0', '5', 'Inactive'],\n",
       "       ['09-10-2017', '5461', 'Sad', '174', '4', 'Inactive'],\n",
       "       ['10-10-2017', '6915', 'Neutral', '223', '5', 'Active']],\n",
       "      dtype='<U10')"
      ]
     },
     "execution_count": 175,
     "metadata": {},
     "output_type": "execute_result"
    }
   ],
   "source": [
    "data[:5]"
   ]
  },
  {
   "cell_type": "raw",
   "id": "870c5076",
   "metadata": {},
   "source": [
    "Now, we want to place all the dates into a single entity.\n",
    "\n",
    "How to do that?\n",
    "\n",
    "One way is to just go ahead and fetch the column number 0 from all rows.\n",
    "Another way is to, take a transpose of data.\n",
    "Let's see them both -"
   ]
  },
  {
   "cell_type": "code",
   "execution_count": 176,
   "id": "c48099b9",
   "metadata": {},
   "outputs": [
    {
     "data": {
      "text/plain": [
       "array(['06-10-2017', '07-10-2017', '08-10-2017', '09-10-2017',\n",
       "       '10-10-2017', '11-10-2017', '12-10-2017', '13-10-2017',\n",
       "       '14-10-2017', '15-10-2017', '16-10-2017', '17-10-2017',\n",
       "       '18-10-2017', '19-10-2017', '20-10-2017', '21-10-2017',\n",
       "       '22-10-2017', '23-10-2017', '24-10-2017', '25-10-2017',\n",
       "       '26-10-2017', '27-10-2017', '28-10-2017', '29-10-2017',\n",
       "       '30-10-2017', '31-10-2017', '01-11-2017', '02-11-2017',\n",
       "       '03-11-2017', '04-11-2017', '05-11-2017', '06-11-2017',\n",
       "       '07-11-2017', '08-11-2017', '09-11-2017', '10-11-2017',\n",
       "       '11-11-2017', '12-11-2017', '13-11-2017', '14-11-2017',\n",
       "       '15-11-2017', '16-11-2017', '17-11-2017', '18-11-2017',\n",
       "       '19-11-2017', '20-11-2017', '21-11-2017', '22-11-2017',\n",
       "       '23-11-2017', '24-11-2017', '25-11-2017', '26-11-2017',\n",
       "       '27-11-2017', '28-11-2017', '29-11-2017', '30-11-2017',\n",
       "       '01-12-2017', '02-12-2017', '03-12-2017', '04-12-2017',\n",
       "       '05-12-2017', '06-12-2017', '07-12-2017', '08-12-2017',\n",
       "       '09-12-2017', '10-12-2017', '11-12-2017', '12-12-2017',\n",
       "       '13-12-2017', '14-12-2017', '15-12-2017', '16-12-2017',\n",
       "       '17-12-2017', '18-12-2017', '19-12-2017', '20-12-2017',\n",
       "       '21-12-2017', '22-12-2017', '23-12-2017', '24-12-2017',\n",
       "       '25-12-2017', '26-12-2017', '27-12-2017', '28-12-2017',\n",
       "       '29-12-2017', '30-12-2017', '31-12-2017', '01-01-2018',\n",
       "       '02-01-2018', '03-01-2018', '04-01-2018', '05-01-2018',\n",
       "       '06-01-2018', '07-01-2018', '08-01-2018', '09-01-2018'],\n",
       "      dtype='<U10')"
      ]
     },
     "execution_count": 176,
     "metadata": {},
     "output_type": "execute_result"
    }
   ],
   "source": [
    "# Approach 1\n",
    "data[:,0] # get only 0th index -> date column alone"
   ]
  },
  {
   "cell_type": "code",
   "execution_count": 177,
   "id": "45b6f015",
   "metadata": {},
   "outputs": [
    {
     "data": {
      "text/plain": [
       "array([['06-10-2017', '07-10-2017', '08-10-2017', '09-10-2017',\n",
       "        '10-10-2017', '11-10-2017', '12-10-2017', '13-10-2017',\n",
       "        '14-10-2017', '15-10-2017', '16-10-2017', '17-10-2017',\n",
       "        '18-10-2017', '19-10-2017', '20-10-2017', '21-10-2017',\n",
       "        '22-10-2017', '23-10-2017', '24-10-2017', '25-10-2017',\n",
       "        '26-10-2017', '27-10-2017', '28-10-2017', '29-10-2017',\n",
       "        '30-10-2017', '31-10-2017', '01-11-2017', '02-11-2017',\n",
       "        '03-11-2017', '04-11-2017', '05-11-2017', '06-11-2017',\n",
       "        '07-11-2017', '08-11-2017', '09-11-2017', '10-11-2017',\n",
       "        '11-11-2017', '12-11-2017', '13-11-2017', '14-11-2017',\n",
       "        '15-11-2017', '16-11-2017', '17-11-2017', '18-11-2017',\n",
       "        '19-11-2017', '20-11-2017', '21-11-2017', '22-11-2017',\n",
       "        '23-11-2017', '24-11-2017', '25-11-2017', '26-11-2017',\n",
       "        '27-11-2017', '28-11-2017', '29-11-2017', '30-11-2017',\n",
       "        '01-12-2017', '02-12-2017', '03-12-2017', '04-12-2017',\n",
       "        '05-12-2017', '06-12-2017', '07-12-2017', '08-12-2017',\n",
       "        '09-12-2017', '10-12-2017', '11-12-2017', '12-12-2017',\n",
       "        '13-12-2017', '14-12-2017', '15-12-2017', '16-12-2017',\n",
       "        '17-12-2017', '18-12-2017', '19-12-2017', '20-12-2017',\n",
       "        '21-12-2017', '22-12-2017', '23-12-2017', '24-12-2017',\n",
       "        '25-12-2017', '26-12-2017', '27-12-2017', '28-12-2017',\n",
       "        '29-12-2017', '30-12-2017', '31-12-2017', '01-01-2018',\n",
       "        '02-01-2018', '03-01-2018', '04-01-2018', '05-01-2018',\n",
       "        '06-01-2018', '07-01-2018', '08-01-2018', '09-01-2018'],\n",
       "       ['5464', '6041', '25', '5461', '6915', '4545', '4340', '1230',\n",
       "        '61', '1258', '3148', '4687', '4732', '3519', '1580', '2822',\n",
       "        '181', '3158', '4383', '3881', '4037', '202', '292', '330',\n",
       "        '2209', '4550', '4435', '4779', '1831', '2255', '539', '5464',\n",
       "        '6041', '4068', '4683', '4033', '6314', '614', '3149', '4005',\n",
       "        '4880', '4136', '705', '570', '269', '4275', '5999', '4421',\n",
       "        '6930', '5195', '546', '493', '995', '1163', '6676', '3608',\n",
       "        '774', '1421', '4064', '2725', '5934', '1867', '3721', '2374',\n",
       "        '2909', '1648', '799', '7102', '3941', '7422', '437', '1231',\n",
       "        '1696', '4921', '221', '6500', '3575', '4061', '651', '753',\n",
       "        '518', '5537', '4108', '5376', '3066', '177', '36', '299',\n",
       "        '1447', '2599', '702', '133', '153', '500', '2127', '2203'],\n",
       "       ['Neutral', 'Sad', 'Sad', 'Sad', 'Neutral', 'Sad', 'Sad', 'Sad',\n",
       "        'Sad', 'Sad', 'Sad', 'Sad', 'Happy', 'Sad', 'Sad', 'Sad', 'Sad',\n",
       "        'Neutral', 'Neutral', 'Neutral', 'Neutral', 'Neutral', 'Neutral',\n",
       "        'Happy', 'Neutral', 'Happy', 'Happy', 'Happy', 'Happy', 'Happy',\n",
       "        'Happy', 'Happy', 'Neutral', 'Happy', 'Happy', 'Happy', 'Happy',\n",
       "        'Happy', 'Happy', 'Happy', 'Happy', 'Happy', 'Happy', 'Neutral',\n",
       "        'Happy', 'Happy', 'Happy', 'Happy', 'Happy', 'Happy', 'Happy',\n",
       "        'Happy', 'Happy', 'Neutral', 'Sad', 'Happy', 'Happy', 'Happy',\n",
       "        'Happy', 'Happy', 'Happy', 'Happy', 'Sad', 'Neutral', 'Neutral',\n",
       "        'Sad', 'Sad', 'Neutral', 'Neutral', 'Happy', 'Neutral',\n",
       "        'Neutral', 'Sad', 'Neutral', 'Sad', 'Neutral', 'Neutral', 'Sad',\n",
       "        'Sad', 'Sad', 'Sad', 'Happy', 'Neutral', 'Happy', 'Neutral',\n",
       "        'Sad', 'Sad', 'Sad', 'Neutral', 'Neutral', 'Sad', 'Sad', 'Happy',\n",
       "        'Neutral', 'Neutral', 'Happy'],\n",
       "       ['181', '197', '0', '174', '223', '149', '140', '38', '1', '40',\n",
       "        '101', '152', '150', '113', '49', '86', '6', '99', '143', '125',\n",
       "        '129', '6', '9', '10', '72', '150', '141', '156', '57', '72',\n",
       "        '17', '181', '197', '131', '154', '137', '193', '19', '101',\n",
       "        '139', '164', '137', '22', '17', '9', '145', '192', '146', '234',\n",
       "        '167', '16', '17', '32', '35', '220', '116', '23', '44', '131',\n",
       "        '86', '194', '60', '121', '76', '93', '53', '25', '227', '125',\n",
       "        '243', '14', '39', '55', '158', '7', '213', '116', '129', '21',\n",
       "        '28', '16', '180', '138', '176', '99', '5', '1', '10', '47',\n",
       "        '84', '23', '4', '0', '0', '0', '0'],\n",
       "       ['5', '8', '5', '4', '5', '6', '6', '7', '5', '6', '8', '5', '6',\n",
       "        '7', '5', '6', '8', '5', '4', '5', '6', '8', '5', '6', '5', '8',\n",
       "        '5', '4', '5', '4', '5', '4', '3', '2', '9', '5', '6', '4', '5',\n",
       "        '8', '4', '5', '6', '5', '6', '5', '6', '5', '6', '5', '6', '7',\n",
       "        '6', '7', '6', '5', '6', '7', '8', '8', '7', '8', '5', '4', '3',\n",
       "        '3', '4', '5', '5', '5', '3', '4', '4', '5', '5', '5', '5', '5',\n",
       "        '5', '4', '3', '4', '5', '5', '4', '5', '3', '3', '3', '2', '3',\n",
       "        '2', '8', '5', '5', '5'],\n",
       "       ['Inactive', 'Inactive', 'Inactive', 'Inactive', 'Active',\n",
       "        'Inactive', 'Inactive', 'Inactive', 'Inactive', 'Inactive',\n",
       "        'Inactive', 'Inactive', 'Active', 'Inactive', 'Inactive',\n",
       "        'Inactive', 'Inactive', 'Inactive', 'Inactive', 'Inactive',\n",
       "        'Inactive', 'Inactive', 'Inactive', 'Inactive', 'Inactive',\n",
       "        'Active', 'Inactive', 'Inactive', 'Inactive', 'Inactive',\n",
       "        'Active', 'Inactive', 'Inactive', 'Inactive', 'Inactive',\n",
       "        'Inactive', 'Active', 'Active', 'Active', 'Active', 'Active',\n",
       "        'Active', 'Active', 'Active', 'Active', 'Inactive', 'Inactive',\n",
       "        'Inactive', 'Inactive', 'Inactive', 'Inactive', 'Active',\n",
       "        'Active', 'Active', 'Active', 'Active', 'Active', 'Active',\n",
       "        'Active', 'Active', 'Active', 'Active', 'Active', 'Inactive',\n",
       "        'Active', 'Active', 'Inactive', 'Active', 'Active', 'Active',\n",
       "        'Active', 'Active', 'Inactive', 'Active', 'Active', 'Active',\n",
       "        'Active', 'Inactive', 'Inactive', 'Inactive', 'Inactive',\n",
       "        'Active', 'Active', 'Active', 'Active', 'Inactive', 'Inactive',\n",
       "        'Inactive', 'Inactive', 'Inactive', 'Inactive', 'Inactive',\n",
       "        'Inactive', 'Active', 'Inactive', 'Active']], dtype='<U10')"
      ]
     },
     "execution_count": 177,
     "metadata": {},
     "output_type": "execute_result"
    }
   ],
   "source": [
    "# Approach 2\n",
    "data_t = data.T\n",
    "data_t"
   ]
  },
  {
   "cell_type": "code",
   "execution_count": 178,
   "id": "8bb0b6f0",
   "metadata": {},
   "outputs": [
    {
     "data": {
      "text/plain": [
       "array(['06-10-2017', '07-10-2017', '08-10-2017', '09-10-2017',\n",
       "       '10-10-2017', '11-10-2017', '12-10-2017', '13-10-2017',\n",
       "       '14-10-2017', '15-10-2017', '16-10-2017', '17-10-2017',\n",
       "       '18-10-2017', '19-10-2017', '20-10-2017', '21-10-2017',\n",
       "       '22-10-2017', '23-10-2017', '24-10-2017', '25-10-2017',\n",
       "       '26-10-2017', '27-10-2017', '28-10-2017', '29-10-2017',\n",
       "       '30-10-2017', '31-10-2017', '01-11-2017', '02-11-2017',\n",
       "       '03-11-2017', '04-11-2017', '05-11-2017', '06-11-2017',\n",
       "       '07-11-2017', '08-11-2017', '09-11-2017', '10-11-2017',\n",
       "       '11-11-2017', '12-11-2017', '13-11-2017', '14-11-2017',\n",
       "       '15-11-2017', '16-11-2017', '17-11-2017', '18-11-2017',\n",
       "       '19-11-2017', '20-11-2017', '21-11-2017', '22-11-2017',\n",
       "       '23-11-2017', '24-11-2017', '25-11-2017', '26-11-2017',\n",
       "       '27-11-2017', '28-11-2017', '29-11-2017', '30-11-2017',\n",
       "       '01-12-2017', '02-12-2017', '03-12-2017', '04-12-2017',\n",
       "       '05-12-2017', '06-12-2017', '07-12-2017', '08-12-2017',\n",
       "       '09-12-2017', '10-12-2017', '11-12-2017', '12-12-2017',\n",
       "       '13-12-2017', '14-12-2017', '15-12-2017', '16-12-2017',\n",
       "       '17-12-2017', '18-12-2017', '19-12-2017', '20-12-2017',\n",
       "       '21-12-2017', '22-12-2017', '23-12-2017', '24-12-2017',\n",
       "       '25-12-2017', '26-12-2017', '27-12-2017', '28-12-2017',\n",
       "       '29-12-2017', '30-12-2017', '31-12-2017', '01-01-2018',\n",
       "       '02-01-2018', '03-01-2018', '04-01-2018', '05-01-2018',\n",
       "       '06-01-2018', '07-01-2018', '08-01-2018', '09-01-2018'],\n",
       "      dtype='<U10')"
      ]
     },
     "execution_count": 178,
     "metadata": {},
     "output_type": "execute_result"
    }
   ],
   "source": [
    "data_t[0]"
   ]
  },
  {
   "cell_type": "code",
   "execution_count": 179,
   "id": "a3042774",
   "metadata": {},
   "outputs": [
    {
     "data": {
      "text/plain": [
       "(6, 96)"
      ]
     },
     "execution_count": 179,
     "metadata": {},
     "output_type": "execute_result"
    }
   ],
   "source": [
    "data_t.shape"
   ]
  },
  {
   "cell_type": "code",
   "execution_count": 180,
   "id": "2c2cc51e",
   "metadata": {},
   "outputs": [
    {
     "data": {
      "text/plain": [
       "(4, 2)"
      ]
     },
     "execution_count": 180,
     "metadata": {},
     "output_type": "execute_result"
    }
   ],
   "source": [
    "np.array([['dat1','dat2'],['stp1','stp2'],['cal1','cal2'],['act1','act2']]).shape"
   ]
  },
  {
   "cell_type": "code",
   "execution_count": 181,
   "id": "f905f02a",
   "metadata": {},
   "outputs": [
    {
     "data": {
      "text/plain": [
       "array(['act1', 'act2'], dtype='<U4')"
      ]
     },
     "execution_count": 181,
     "metadata": {},
     "output_type": "execute_result"
    }
   ],
   "source": [
    "a,b,c,d=np.array([['dat1','dat2'],['stp1','stp2'],['cal1','cal2'],['act1','act2']])\n",
    "d"
   ]
  },
  {
   "cell_type": "code",
   "execution_count": 203,
   "id": "5fbd59cb",
   "metadata": {},
   "outputs": [
    {
     "data": {
      "text/plain": [
       "9"
      ]
     },
     "execution_count": 203,
     "metadata": {},
     "output_type": "execute_result"
    }
   ],
   "source": [
    "a,b,c,d = np.array([6,7,8,9])  # a=6,b=7,c=8,d=9\n",
    "d"
   ]
  },
  {
   "cell_type": "code",
   "execution_count": 182,
   "id": "381f4f1a",
   "metadata": {},
   "outputs": [],
   "source": [
    "date, step_count, mood, calories_burned, hours_of_sleep, activity_status = data_t"
   ]
  },
  {
   "cell_type": "code",
   "execution_count": 185,
   "id": "81227e48",
   "metadata": {},
   "outputs": [
    {
     "data": {
      "text/plain": [
       "array([5464, 6041,   25, 5461, 6915, 4545, 4340, 1230,   61, 1258, 3148,\n",
       "       4687, 4732, 3519, 1580, 2822,  181, 3158, 4383, 3881, 4037,  202,\n",
       "        292,  330, 2209, 4550, 4435, 4779, 1831, 2255,  539, 5464, 6041,\n",
       "       4068, 4683, 4033, 6314,  614, 3149, 4005, 4880, 4136,  705,  570,\n",
       "        269, 4275, 5999, 4421, 6930, 5195,  546,  493,  995, 1163, 6676,\n",
       "       3608,  774, 1421, 4064, 2725, 5934, 1867, 3721, 2374, 2909, 1648,\n",
       "        799, 7102, 3941, 7422,  437, 1231, 1696, 4921,  221, 6500, 3575,\n",
       "       4061,  651,  753,  518, 5537, 4108, 5376, 3066,  177,   36,  299,\n",
       "       1447, 2599,  702,  133,  153,  500, 2127, 2203])"
      ]
     },
     "execution_count": 185,
     "metadata": {},
     "output_type": "execute_result"
    }
   ],
   "source": [
    "step_count = step_count.astype('int')\n",
    "step_count"
   ]
  },
  {
   "cell_type": "code",
   "execution_count": 186,
   "id": "76e872a0",
   "metadata": {},
   "outputs": [],
   "source": [
    "calories_burned = calories_burned.astype(\"int\")\n",
    "hours_of_sleep = hours_of_sleep.astype(\"int\")"
   ]
  },
  {
   "cell_type": "code",
   "execution_count": 187,
   "id": "d061ab1c",
   "metadata": {},
   "outputs": [
    {
     "data": {
      "text/plain": [
       "array(['Happy', 'Neutral', 'Sad'], dtype='<U10')"
      ]
     },
     "execution_count": 187,
     "metadata": {},
     "output_type": "execute_result"
    }
   ],
   "source": [
    "np.unique(mood)"
   ]
  },
  {
   "cell_type": "code",
   "execution_count": 188,
   "id": "92cfbf15",
   "metadata": {},
   "outputs": [
    {
     "data": {
      "text/plain": [
       "array([False, False, False, False, False, False, False, False, False,\n",
       "       False, False, False,  True, False, False, False, False, False,\n",
       "       False, False, False, False, False,  True, False,  True,  True,\n",
       "        True,  True,  True,  True,  True, False,  True,  True,  True,\n",
       "        True,  True,  True,  True,  True,  True,  True, False,  True,\n",
       "        True,  True,  True,  True,  True,  True,  True,  True, False,\n",
       "       False,  True,  True,  True,  True,  True,  True,  True, False,\n",
       "       False, False, False, False, False, False,  True, False, False,\n",
       "       False, False, False, False, False, False, False, False, False,\n",
       "        True, False,  True, False, False, False, False, False, False,\n",
       "       False, False,  True, False, False,  True])"
      ]
     },
     "execution_count": 188,
     "metadata": {},
     "output_type": "execute_result"
    }
   ],
   "source": [
    "mood=='Happy'"
   ]
  },
  {
   "cell_type": "code",
   "execution_count": 190,
   "id": "47d87e5f",
   "metadata": {},
   "outputs": [
    {
     "data": {
      "text/plain": [
       "array([1, 2, 3])"
      ]
     },
     "execution_count": 190,
     "metadata": {},
     "output_type": "execute_result"
    }
   ],
   "source": [
    "a = np.array([1,2,3])\n",
    "a"
   ]
  },
  {
   "cell_type": "code",
   "execution_count": 191,
   "id": "e4f1721a",
   "metadata": {},
   "outputs": [
    {
     "data": {
      "text/plain": [
       "array(['18-10-2017', '29-10-2017', '31-10-2017', '01-11-2017',\n",
       "       '02-11-2017', '03-11-2017', '04-11-2017', '05-11-2017',\n",
       "       '06-11-2017', '08-11-2017', '09-11-2017', '10-11-2017',\n",
       "       '11-11-2017', '12-11-2017', '13-11-2017', '14-11-2017',\n",
       "       '15-11-2017', '16-11-2017', '17-11-2017', '19-11-2017',\n",
       "       '20-11-2017', '21-11-2017', '22-11-2017', '23-11-2017',\n",
       "       '24-11-2017', '25-11-2017', '26-11-2017', '27-11-2017',\n",
       "       '30-11-2017', '01-12-2017', '02-12-2017', '03-12-2017',\n",
       "       '04-12-2017', '05-12-2017', '06-12-2017', '14-12-2017',\n",
       "       '26-12-2017', '28-12-2017', '06-01-2018', '09-01-2018'],\n",
       "      dtype='<U10')"
      ]
     },
     "execution_count": 191,
     "metadata": {},
     "output_type": "execute_result"
    }
   ],
   "source": [
    "date[mood=='Happy']"
   ]
  },
  {
   "cell_type": "code",
   "execution_count": 192,
   "id": "40f18cca",
   "metadata": {},
   "outputs": [
    {
     "data": {
      "text/plain": [
       "array([4732,  330, 4550, 4435, 4779, 1831, 2255,  539, 5464, 4068, 4683,\n",
       "       4033, 6314,  614, 3149, 4005, 4880, 4136,  705,  269, 4275, 5999,\n",
       "       4421, 6930, 5195,  546,  493,  995, 3608,  774, 1421, 4064, 2725,\n",
       "       5934, 1867, 7422, 5537, 5376,  153, 2203])"
      ]
     },
     "execution_count": 192,
     "metadata": {},
     "output_type": "execute_result"
    }
   ],
   "source": [
    "step_count[mood=='Happy']"
   ]
  },
  {
   "cell_type": "code",
   "execution_count": 193,
   "id": "a37bbc84",
   "metadata": {},
   "outputs": [
    {
     "data": {
      "text/plain": [
       "3392.725"
      ]
     },
     "execution_count": 193,
     "metadata": {},
     "output_type": "execute_result"
    }
   ],
   "source": [
    "np.mean(step_count[mood=='Happy'])"
   ]
  },
  {
   "cell_type": "code",
   "execution_count": 195,
   "id": "586c12c5",
   "metadata": {},
   "outputs": [
    {
     "data": {
      "text/plain": [
       "2103.0689655172414"
      ]
     },
     "execution_count": 195,
     "metadata": {},
     "output_type": "execute_result"
    }
   ],
   "source": [
    "np.mean(step_count[mood=='Sad'])"
   ]
  },
  {
   "cell_type": "markdown",
   "id": "df16ab19",
   "metadata": {},
   "source": [
    "# Exploratory Data Analysys (EDA)\n",
    "people walk more when they are happy?\n",
    "if a person is happy, does he sleep more?\n",
    "If a person is happy, is he burning more calaries?"
   ]
  },
  {
   "cell_type": "markdown",
   "id": "51286d37",
   "metadata": {},
   "source": [
    "# Np.Sort"
   ]
  },
  {
   "cell_type": "code",
   "execution_count": 235,
   "id": "4fe1f63e",
   "metadata": {},
   "outputs": [
    {
     "data": {
      "text/plain": [
       "array([4, 7, 0, 3, 8, 2, 5, 1, 6, 9])"
      ]
     },
     "execution_count": 235,
     "metadata": {},
     "output_type": "execute_result"
    }
   ],
   "source": [
    "a = np.array([4, 7, 0, 3, 8, 2, 5, 1, 6, 9])\n",
    "a"
   ]
  },
  {
   "cell_type": "code",
   "execution_count": 197,
   "id": "8fa040c3",
   "metadata": {},
   "outputs": [
    {
     "data": {
      "text/plain": [
       "array([0, 1, 2, 3, 4, 5, 6, 7, 8, 9])"
      ]
     },
     "execution_count": 197,
     "metadata": {},
     "output_type": "execute_result"
    }
   ],
   "source": [
    "np.sort(a)#  output- not inplace - you have not changed the original array\n",
    "#a = np.sort(a)"
   ]
  },
  {
   "cell_type": "code",
   "execution_count": 199,
   "id": "81e73a20",
   "metadata": {},
   "outputs": [
    {
     "data": {
      "text/plain": [
       "array([0, 1, 2, 3, 4, 5, 6, 7, 8, 9])"
      ]
     },
     "execution_count": 199,
     "metadata": {},
     "output_type": "execute_result"
    }
   ],
   "source": [
    "a.sort()\n",
    "a"
   ]
  },
  {
   "cell_type": "code",
   "execution_count": 238,
   "id": "09a830a3",
   "metadata": {},
   "outputs": [
    {
     "data": {
      "text/plain": [
       "array([0, 1, 2, 3, 4, 5, 6, 7, 8, 9])"
      ]
     },
     "execution_count": 238,
     "metadata": {},
     "output_type": "execute_result"
    }
   ],
   "source": [
    "a.sort(axis=0)\n",
    "a"
   ]
  },
  {
   "cell_type": "code",
   "execution_count": 237,
   "id": "315b443d",
   "metadata": {},
   "outputs": [
    {
     "ename": "AxisError",
     "evalue": "axis 1 is out of bounds for array of dimension 1",
     "output_type": "error",
     "traceback": [
      "\u001b[1;31m---------------------------------------------------------------------------\u001b[0m",
      "\u001b[1;31mAxisError\u001b[0m                                 Traceback (most recent call last)",
      "Cell \u001b[1;32mIn[237], line 1\u001b[0m\n\u001b[1;32m----> 1\u001b[0m a\u001b[38;5;241m.\u001b[39msort(axis\u001b[38;5;241m=\u001b[39m\u001b[38;5;241m1\u001b[39m)\n",
      "\u001b[1;31mAxisError\u001b[0m: axis 1 is out of bounds for array of dimension 1"
     ]
    }
   ],
   "source": [
    "a.sort(axis=1)"
   ]
  },
  {
   "cell_type": "code",
   "execution_count": 202,
   "id": "f6f7fbe1",
   "metadata": {},
   "outputs": [
    {
     "name": "stdout",
     "output_type": "stream",
     "text": [
      "[4 7 0 3 8 2 5 1 6 9]\n",
      "[4 7 0 3 8 2 5 1 6 9]\n",
      "[0 1 2 3 4 5 6 7 8 9]\n"
     ]
    }
   ],
   "source": [
    "a = np.array([4, 7, 0, 3, 8, 2, 5, 1, 6, 9])\n",
    "print(a)  # original\n",
    "np.sort(a)\n",
    "print(a) # no change in original array  # temprary output\n",
    "a.sort() \n",
    "print(a)  # changing original array  # in-place or permanent output"
   ]
  },
  {
   "cell_type": "code",
   "execution_count": 204,
   "id": "b41dd686",
   "metadata": {},
   "outputs": [
    {
     "data": {
      "text/plain": [
       "array([[345, 567, 122],\n",
       "       [ 54,  65,  21],\n",
       "       [654, 234, 423]])"
      ]
     },
     "execution_count": 204,
     "metadata": {},
     "output_type": "execute_result"
    }
   ],
   "source": [
    "a = np.array([[345,567,122],[54,65,21],[654,234,423]])\n",
    "a"
   ]
  },
  {
   "cell_type": "code",
   "execution_count": 205,
   "id": "d2de130f",
   "metadata": {},
   "outputs": [
    {
     "data": {
      "text/plain": [
       "array([[122, 345, 567],\n",
       "       [ 21,  54,  65],\n",
       "       [234, 423, 654]])"
      ]
     },
     "execution_count": 205,
     "metadata": {},
     "output_type": "execute_result"
    }
   ],
   "source": [
    "np.sort(a) # sort each row separately"
   ]
  },
  {
   "cell_type": "code",
   "execution_count": 207,
   "id": "6d4df4dd",
   "metadata": {},
   "outputs": [
    {
     "data": {
      "text/plain": [
       "array([[345, 567, 122],\n",
       "       [ 54,  65,  21],\n",
       "       [654, 234, 423]])"
      ]
     },
     "execution_count": 207,
     "metadata": {},
     "output_type": "execute_result"
    }
   ],
   "source": [
    "a"
   ]
  },
  {
   "cell_type": "code",
   "execution_count": 206,
   "id": "1038cb61",
   "metadata": {},
   "outputs": [
    {
     "data": {
      "text/plain": [
       "array([[ 54,  65,  21],\n",
       "       [345, 234, 122],\n",
       "       [654, 567, 423]])"
      ]
     },
     "execution_count": 206,
     "metadata": {},
     "output_type": "execute_result"
    }
   ],
   "source": [
    "np.sort(a,axis=0) # 0 for column sorting"
   ]
  },
  {
   "cell_type": "code",
   "execution_count": 209,
   "id": "99391042",
   "metadata": {},
   "outputs": [
    {
     "data": {
      "text/plain": [
       "array([[345, 567, 122],\n",
       "       [ 54,  65,  21],\n",
       "       [654, 234, 423]])"
      ]
     },
     "execution_count": 209,
     "metadata": {},
     "output_type": "execute_result"
    }
   ],
   "source": [
    "a"
   ]
  },
  {
   "cell_type": "code",
   "execution_count": 208,
   "id": "ccfc2e44",
   "metadata": {},
   "outputs": [
    {
     "data": {
      "text/plain": [
       "array([[122, 345, 567],\n",
       "       [ 21,  54,  65],\n",
       "       [234, 423, 654]])"
      ]
     },
     "execution_count": 208,
     "metadata": {},
     "output_type": "execute_result"
    }
   ],
   "source": [
    "np.sort(a,axis=1)  # 1 for row sorting"
   ]
  },
  {
   "cell_type": "markdown",
   "id": "b2fd01bf",
   "metadata": {},
   "source": [
    "# Element-wise Multiplication\n",
    "np.dot  # mostly used in industry\n",
    "np.matmul\n",
    "a @ b\n",
    "a = [2 x 3] [ R X C]\n",
    "b = [3 x 2] [ R x C]\n",
    "R and C must match and C and R match\n",
    "multiplication = a x b = [2 x 3] [3 x 2] # 1st and last are 2 and 2 # middle both are 3 and 3. then its possible\n"
   ]
  },
  {
   "cell_type": "code",
   "execution_count": 212,
   "id": "e59b2366",
   "metadata": {},
   "outputs": [
    {
     "data": {
      "text/plain": [
       "array([1, 2, 3, 4, 5])"
      ]
     },
     "execution_count": 212,
     "metadata": {},
     "output_type": "execute_result"
    }
   ],
   "source": [
    "a = np.arange(1,6)\n",
    "a"
   ]
  },
  {
   "cell_type": "code",
   "execution_count": 211,
   "id": "b9d3ad75",
   "metadata": {},
   "outputs": [
    {
     "data": {
      "text/plain": [
       "array([ 6,  7,  8,  9, 10])"
      ]
     },
     "execution_count": 211,
     "metadata": {},
     "output_type": "execute_result"
    }
   ],
   "source": [
    "b = np.arange(6,11)\n",
    "b"
   ]
  },
  {
   "cell_type": "code",
   "execution_count": 213,
   "id": "bda13992",
   "metadata": {},
   "outputs": [
    {
     "data": {
      "text/plain": [
       "array([ 6, 14, 24, 36, 50])"
      ]
     },
     "execution_count": 213,
     "metadata": {},
     "output_type": "execute_result"
    }
   ],
   "source": [
    "a*b"
   ]
  },
  {
   "cell_type": "code",
   "execution_count": 215,
   "id": "e64cb772",
   "metadata": {},
   "outputs": [
    {
     "ename": "ValueError",
     "evalue": "operands could not be broadcast together with shapes (3,) (2,) ",
     "output_type": "error",
     "traceback": [
      "\u001b[1;31m---------------------------------------------------------------------------\u001b[0m",
      "\u001b[1;31mValueError\u001b[0m                                Traceback (most recent call last)",
      "Cell \u001b[1;32mIn[215], line 1\u001b[0m\n\u001b[1;32m----> 1\u001b[0m np\u001b[38;5;241m.\u001b[39marray([\u001b[38;5;241m1\u001b[39m,\u001b[38;5;241m2\u001b[39m,\u001b[38;5;241m3\u001b[39m]) \u001b[38;5;241m*\u001b[39m np\u001b[38;5;241m.\u001b[39marray([\u001b[38;5;241m1\u001b[39m,\u001b[38;5;241m2\u001b[39m])\n",
      "\u001b[1;31mValueError\u001b[0m: operands could not be broadcast together with shapes (3,) (2,) "
     ]
    }
   ],
   "source": [
    "# Array * Number →→ WORKS \n",
    "# Array * Array (same shape) →→ WORKS \n",
    "# Array * Array (different shape) →→ DOES NOT WORK\n",
    "\n",
    "np.array([1,2,3]) * np.array([1,2])"
   ]
  },
  {
   "cell_type": "code",
   "execution_count": 220,
   "id": "f7b90ddb",
   "metadata": {},
   "outputs": [
    {
     "name": "stdout",
     "output_type": "stream",
     "text": [
      "[[ 1  2  3  4]\n",
      " [ 5  6  7  8]\n",
      " [ 9 10 11 12]]\n"
     ]
    }
   ],
   "source": [
    "a = np.arange(1,13).reshape(3,4)\n",
    "c = np.arange(2,14).reshape(4,3)\n",
    "print(a)"
   ]
  },
  {
   "cell_type": "code",
   "execution_count": 221,
   "id": "4048e28f",
   "metadata": {},
   "outputs": [
    {
     "data": {
      "text/plain": [
       "array([[ 2,  3,  4],\n",
       "       [ 5,  6,  7],\n",
       "       [ 8,  9, 10],\n",
       "       [11, 12, 13]])"
      ]
     },
     "execution_count": 221,
     "metadata": {},
     "output_type": "execute_result"
    }
   ],
   "source": [
    "c"
   ]
  },
  {
   "cell_type": "code",
   "execution_count": 222,
   "id": "de2c72d2",
   "metadata": {},
   "outputs": [
    {
     "data": {
      "text/plain": [
       "((3, 4), (4, 3))"
      ]
     },
     "execution_count": 222,
     "metadata": {},
     "output_type": "execute_result"
    }
   ],
   "source": [
    "a.shape, c.shape  # [3 x 4] [4 x 3] # multiplication is possible since 3 and 3 also 4 and 4"
   ]
  },
  {
   "cell_type": "code",
   "execution_count": 223,
   "id": "5450224f",
   "metadata": {},
   "outputs": [
    {
     "data": {
      "text/plain": [
       "array([[ 80,  90, 100],\n",
       "       [184, 210, 236],\n",
       "       [288, 330, 372]])"
      ]
     },
     "execution_count": 223,
     "metadata": {},
     "output_type": "execute_result"
    }
   ],
   "source": [
    "np.dot(a,c)"
   ]
  },
  {
   "cell_type": "code",
   "execution_count": 224,
   "id": "f8d8686e",
   "metadata": {},
   "outputs": [
    {
     "data": {
      "text/plain": [
       "array([[ 80,  90, 100],\n",
       "       [184, 210, 236],\n",
       "       [288, 330, 372]])"
      ]
     },
     "execution_count": 224,
     "metadata": {},
     "output_type": "execute_result"
    }
   ],
   "source": [
    "np.matmul(a,c)"
   ]
  },
  {
   "cell_type": "code",
   "execution_count": 225,
   "id": "8e249d90",
   "metadata": {},
   "outputs": [
    {
     "data": {
      "text/plain": [
       "array([[ 80,  90, 100],\n",
       "       [184, 210, 236],\n",
       "       [288, 330, 372]])"
      ]
     },
     "execution_count": 225,
     "metadata": {},
     "output_type": "execute_result"
    }
   ],
   "source": [
    "a@c"
   ]
  },
  {
   "cell_type": "code",
   "execution_count": 226,
   "id": "212ba87b",
   "metadata": {},
   "outputs": [
    {
     "data": {
      "text/plain": [
       "array([[ 1,  2,  3,  4],\n",
       "       [ 5,  6,  7,  8],\n",
       "       [ 9, 10, 11, 12]])"
      ]
     },
     "execution_count": 226,
     "metadata": {},
     "output_type": "execute_result"
    }
   ],
   "source": [
    "a"
   ]
  },
  {
   "cell_type": "code",
   "execution_count": 227,
   "id": "077b11d4",
   "metadata": {},
   "outputs": [
    {
     "ename": "ValueError",
     "evalue": "matmul: Input operand 1 does not have enough dimensions (has 0, gufunc core with signature (n?,k),(k,m?)->(n?,m?) requires 1)",
     "output_type": "error",
     "traceback": [
      "\u001b[1;31m---------------------------------------------------------------------------\u001b[0m",
      "\u001b[1;31mValueError\u001b[0m                                Traceback (most recent call last)",
      "Cell \u001b[1;32mIn[227], line 1\u001b[0m\n\u001b[1;32m----> 1\u001b[0m np\u001b[38;5;241m.\u001b[39mmatmul(a,\u001b[38;5;241m5\u001b[39m)\n",
      "\u001b[1;31mValueError\u001b[0m: matmul: Input operand 1 does not have enough dimensions (has 0, gufunc core with signature (n?,k),(k,m?)->(n?,m?) requires 1)"
     ]
    }
   ],
   "source": [
    "np.matmul(a,5)  # does not support"
   ]
  },
  {
   "cell_type": "code",
   "execution_count": 228,
   "id": "5d318982",
   "metadata": {},
   "outputs": [
    {
     "ename": "ValueError",
     "evalue": "matmul: Input operand 1 does not have enough dimensions (has 0, gufunc core with signature (n?,k),(k,m?)->(n?,m?) requires 1)",
     "output_type": "error",
     "traceback": [
      "\u001b[1;31m---------------------------------------------------------------------------\u001b[0m",
      "\u001b[1;31mValueError\u001b[0m                                Traceback (most recent call last)",
      "Cell \u001b[1;32mIn[228], line 1\u001b[0m\n\u001b[1;32m----> 1\u001b[0m a\u001b[38;5;241m@\u001b[39m\u001b[38;5;241m5\u001b[39m\n",
      "\u001b[1;31mValueError\u001b[0m: matmul: Input operand 1 does not have enough dimensions (has 0, gufunc core with signature (n?,k),(k,m?)->(n?,m?) requires 1)"
     ]
    }
   ],
   "source": [
    "a@5 # not possible"
   ]
  },
  {
   "cell_type": "code",
   "execution_count": 229,
   "id": "2723ef46",
   "metadata": {},
   "outputs": [
    {
     "data": {
      "text/plain": [
       "array([[ 1,  2,  3,  4],\n",
       "       [ 5,  6,  7,  8],\n",
       "       [ 9, 10, 11, 12]])"
      ]
     },
     "execution_count": 229,
     "metadata": {},
     "output_type": "execute_result"
    }
   ],
   "source": [
    "a"
   ]
  },
  {
   "cell_type": "code",
   "execution_count": 231,
   "id": "58da380c",
   "metadata": {},
   "outputs": [
    {
     "data": {
      "text/plain": [
       "array([[ 5, 10, 15, 20],\n",
       "       [25, 30, 35, 40],\n",
       "       [45, 50, 55, 60]])"
      ]
     },
     "execution_count": 231,
     "metadata": {},
     "output_type": "execute_result"
    }
   ],
   "source": [
    "np.dot(a,5)  # possible"
   ]
  },
  {
   "cell_type": "code",
   "execution_count": 232,
   "id": "3b1bddff",
   "metadata": {},
   "outputs": [
    {
     "data": {
      "text/plain": [
       "(array([[0, 1],\n",
       "        [2, 3],\n",
       "        [4, 5],\n",
       "        [6, 7],\n",
       "        [8, 9]]),\n",
       " array([[0],\n",
       "        [1]]))"
      ]
     },
     "execution_count": 232,
     "metadata": {},
     "output_type": "execute_result"
    }
   ],
   "source": [
    "x = np.arange(10).reshape(5,2)\n",
    "y = np.arange(2).reshape(2,1)\n",
    "x,y"
   ]
  },
  {
   "cell_type": "code",
   "execution_count": 233,
   "id": "dbd3e9be",
   "metadata": {},
   "outputs": [
    {
     "data": {
      "text/plain": [
       "array([[1],\n",
       "       [3],\n",
       "       [5],\n",
       "       [7],\n",
       "       [9]])"
      ]
     },
     "execution_count": 233,
     "metadata": {},
     "output_type": "execute_result"
    }
   ],
   "source": [
    "np.dot(x,y)"
   ]
  },
  {
   "cell_type": "markdown",
   "id": "ff7561c8",
   "metadata": {},
   "source": [
    "# **Vectorization**\n"
   ]
  },
  {
   "cell_type": "code",
   "execution_count": 239,
   "id": "47ad96fb",
   "metadata": {},
   "outputs": [
    {
     "data": {
      "text/plain": [
       "array([3, 4, 5])"
      ]
     },
     "execution_count": 239,
     "metadata": {},
     "output_type": "execute_result"
    }
   ],
   "source": [
    "a = np.array([1,2,3])\n",
    "a+2"
   ]
  },
  {
   "cell_type": "code",
   "execution_count": 240,
   "id": "2c753372",
   "metadata": {},
   "outputs": [
    {
     "data": {
      "text/plain": [
       "array([1, 4, 9])"
      ]
     },
     "execution_count": 240,
     "metadata": {},
     "output_type": "execute_result"
    }
   ],
   "source": [
    "a**2"
   ]
  },
  {
   "cell_type": "code",
   "execution_count": 241,
   "id": "96f8b3b7",
   "metadata": {},
   "outputs": [],
   "source": [
    "def even_odd(x):\n",
    "    if x%2==0:\n",
    "        return 'even'\n",
    "    else:\n",
    "        return 'odd'"
   ]
  },
  {
   "cell_type": "code",
   "execution_count": 243,
   "id": "d8d7f9ef",
   "metadata": {},
   "outputs": [
    {
     "data": {
      "text/plain": [
       "array([ 1,  2,  3,  4,  5,  6,  7,  8,  9, 10, 11, 12, 13, 14])"
      ]
     },
     "execution_count": 243,
     "metadata": {},
     "output_type": "execute_result"
    }
   ],
   "source": [
    "a = np.arange(1,15)\n",
    "a"
   ]
  },
  {
   "cell_type": "code",
   "execution_count": 244,
   "id": "a8442344",
   "metadata": {},
   "outputs": [
    {
     "ename": "ValueError",
     "evalue": "The truth value of an array with more than one element is ambiguous. Use a.any() or a.all()",
     "output_type": "error",
     "traceback": [
      "\u001b[1;31m---------------------------------------------------------------------------\u001b[0m",
      "\u001b[1;31mValueError\u001b[0m                                Traceback (most recent call last)",
      "Cell \u001b[1;32mIn[244], line 1\u001b[0m\n\u001b[1;32m----> 1\u001b[0m even_odd(a)\n",
      "Cell \u001b[1;32mIn[241], line 2\u001b[0m, in \u001b[0;36meven_odd\u001b[1;34m(x)\u001b[0m\n\u001b[0;32m      1\u001b[0m \u001b[38;5;28;01mdef\u001b[39;00m \u001b[38;5;21meven_odd\u001b[39m(x):\n\u001b[1;32m----> 2\u001b[0m     \u001b[38;5;28;01mif\u001b[39;00m x\u001b[38;5;241m%\u001b[39m\u001b[38;5;241m2\u001b[39m\u001b[38;5;241m==\u001b[39m\u001b[38;5;241m0\u001b[39m:\n\u001b[0;32m      3\u001b[0m         \u001b[38;5;28;01mreturn\u001b[39;00m \u001b[38;5;124m'\u001b[39m\u001b[38;5;124meven\u001b[39m\u001b[38;5;124m'\u001b[39m\n\u001b[0;32m      4\u001b[0m     \u001b[38;5;28;01melse\u001b[39;00m:\n",
      "\u001b[1;31mValueError\u001b[0m: The truth value of an array with more than one element is ambiguous. Use a.any() or a.all()"
     ]
    }
   ],
   "source": [
    "even_odd(a)"
   ]
  },
  {
   "cell_type": "code",
   "execution_count": 247,
   "id": "834d657a",
   "metadata": {},
   "outputs": [
    {
     "data": {
      "text/plain": [
       "array([ 3,  4,  5,  6,  7,  8,  9, 10, 11, 12, 13, 14, 15, 16])"
      ]
     },
     "execution_count": 247,
     "metadata": {},
     "output_type": "execute_result"
    }
   ],
   "source": [
    "a+2"
   ]
  },
  {
   "cell_type": "code",
   "execution_count": 246,
   "id": "7e6a999e",
   "metadata": {},
   "outputs": [
    {
     "data": {
      "text/plain": [
       "array([  1,   4,   9,  16,  25,  36,  49,  64,  81, 100, 121, 144, 169,\n",
       "       196])"
      ]
     },
     "execution_count": 246,
     "metadata": {},
     "output_type": "execute_result"
    }
   ],
   "source": [
    "a**2"
   ]
  },
  {
   "cell_type": "code",
   "execution_count": 245,
   "id": "b0e0621a",
   "metadata": {},
   "outputs": [
    {
     "name": "stdout",
     "output_type": "stream",
     "text": [
      "odd\n",
      "even\n",
      "odd\n",
      "even\n",
      "odd\n",
      "even\n",
      "odd\n",
      "even\n",
      "odd\n",
      "even\n",
      "odd\n",
      "even\n",
      "odd\n",
      "even\n"
     ]
    }
   ],
   "source": [
    "for i in a:\n",
    "    print(even_odd(i))"
   ]
  },
  {
   "cell_type": "code",
   "execution_count": 250,
   "id": "a28feafd",
   "metadata": {},
   "outputs": [
    {
     "data": {
      "text/plain": [
       "array(['odd', 'even', 'odd', 'even', 'odd', 'even', 'odd', 'even', 'odd',\n",
       "       'even', 'odd', 'even', 'odd', 'even'], dtype='<U4')"
      ]
     },
     "execution_count": 250,
     "metadata": {},
     "output_type": "execute_result"
    }
   ],
   "source": [
    "vec_func = np.vectorize(even_odd)\n",
    "vec_func(a)"
   ]
  },
  {
   "cell_type": "code",
   "execution_count": 252,
   "id": "e98da353",
   "metadata": {},
   "outputs": [],
   "source": [
    "# Define a function to categorize temperatures\n",
    "def categorize_temperature(temp):\n",
    "    if temp < 0:\n",
    "        return 'Freezing'\n",
    "    elif temp < 10:\n",
    "        return 'Cold'\n",
    "    elif temp < 20:\n",
    "        return 'Cool'\n",
    "    elif temp < 30:\n",
    "        return 'Warm'\n",
    "    else:\n",
    "        return 'Hot'\n",
    "\n",
    "# Create a numpy array of temperatures\n",
    "temperatures = np.array([-5, 0, 5, 15, 25, 35])"
   ]
  },
  {
   "cell_type": "code",
   "execution_count": 253,
   "id": "1c629830",
   "metadata": {},
   "outputs": [
    {
     "data": {
      "text/plain": [
       "array(['Freezing', 'Cold', 'Cold', 'Cool', 'Warm', 'Hot'], dtype='<U8')"
      ]
     },
     "execution_count": 253,
     "metadata": {},
     "output_type": "execute_result"
    }
   ],
   "source": [
    "vec_temp = np.vectorize(categorize_temperature)\n",
    "vec_temp(temperatures)"
   ]
  },
  {
   "cell_type": "markdown",
   "id": "6f0cc6b9",
   "metadata": {},
   "source": [
    "# **Broadcasting**\n",
    "<!-- transmitting the data all over -->\n",
    "\n",
    "rule 1: If your dimensions are not matching, match them by adding 1 in starting\n",
    "\n",
    "Ex1:   step1: (5,) (5,2) are different\n",
    "       step2: (1,5) (5,2)  add 1 in the 1st\n",
    "Ex2:  3D (3,7,2) (4,1) 2D  => (3,7,2) (1,4,1)\n",
    "Ex3:  (7,1,8,4)  (1,7,3)   => (7,1,8,4) (1,1,7,3)\n",
    "Ex4:  (3,8,4)  (4,3,2)  => cannot do anything\n",
    "\n",
    "rule 2: If you have 1 you can change that\n",
    "\n",
    "Ex1:\n",
    "         (5,)  (3,5) \n",
    "Rule 1=> (1,5) (3,5) \n",
    "Rule 2=> (3,5) (3,5) => 1 can be changed to 3\n",
    "\n",
    "Ex2:\n",
    "        (7,3,4)  (4)\n",
    "        (7,3,4)  (1,1,4)\n",
    "        (7,3,4)  (7,3,4)\n",
    "        \n",
    "---------------------------\n",
    "\n",
    "1 2 3  X  1 2 3\n",
    "4 5 6    \n",
    "\n",
    "[2 X 3] [1 x 3]?\n",
    "\n",
    "1 2 3     1 2 3\n",
    "4 5 6  X  1 2 3\n",
    "\n",
    "1,2,3 extending again in next row\n",
    "answer will be\n",
    "\n",
    "2 4 6\n",
    "\n",
    "------------------------\n",
    "    1  2  3            1 2 3\n",
    "    4  5  6            4 5 6\n",
    "    7  8  9\n",
    "    10 11 12\n",
    "    \n",
    " cannot broadcast since 2 rows need to broadcast. only one row can be broadcast\n",
    " \n",
    " ------------------------\n",
    "    1  2  3            1 2 3\n",
    "    4  5  6            \n",
    "    7  8  9\n",
    "    10 11 12\n",
    "    \n",
    " can be broadcast since 1 row can be repeated. only one row can be broadcast\n",
    " \n",
    " ---------------------\n",
    "    1  2  3            1\n",
    "    4  5  6            2\n",
    "    7  8  9            3\n",
    "  can be broadcast since 1 column can be repeated. only one column can be broadcast\n",
    "    "
   ]
  },
  {
   "cell_type": "code",
   "execution_count": 254,
   "id": "96438dc3",
   "metadata": {},
   "outputs": [
    {
     "data": {
      "text/plain": [
       "array([[1, 2, 3],\n",
       "       [4, 5, 6]])"
      ]
     },
     "execution_count": 254,
     "metadata": {},
     "output_type": "execute_result"
    }
   ],
   "source": [
    "a = np.array([[1,2,3],[4,5,6]])\n",
    "a"
   ]
  },
  {
   "cell_type": "code",
   "execution_count": 255,
   "id": "2a6e46d7",
   "metadata": {},
   "outputs": [
    {
     "data": {
      "text/plain": [
       "array([[3, 4, 5],\n",
       "       [6, 7, 8]])"
      ]
     },
     "execution_count": 255,
     "metadata": {},
     "output_type": "execute_result"
    }
   ],
   "source": [
    "a+2"
   ]
  },
  {
   "cell_type": "code",
   "execution_count": 256,
   "id": "efb88df7",
   "metadata": {},
   "outputs": [
    {
     "data": {
      "text/plain": [
       "array([1, 2, 3])"
      ]
     },
     "execution_count": 256,
     "metadata": {},
     "output_type": "execute_result"
    }
   ],
   "source": [
    "b = np.array([1,2,3])\n",
    "b"
   ]
  },
  {
   "cell_type": "code",
   "execution_count": 257,
   "id": "93aeac1f",
   "metadata": {},
   "outputs": [
    {
     "data": {
      "text/plain": [
       "array([[2, 4, 6],\n",
       "       [5, 7, 9]])"
      ]
     },
     "execution_count": 257,
     "metadata": {},
     "output_type": "execute_result"
    }
   ],
   "source": [
    "a+b"
   ]
  },
  {
   "cell_type": "code",
   "execution_count": 258,
   "id": "71eb4c23",
   "metadata": {},
   "outputs": [
    {
     "data": {
      "text/plain": [
       "array([[1, 2, 3],\n",
       "       [4, 5, 6],\n",
       "       [7, 8, 9]])"
      ]
     },
     "execution_count": 258,
     "metadata": {},
     "output_type": "execute_result"
    }
   ],
   "source": [
    "a = np.arange(1,10).reshape(3,3)\n",
    "a"
   ]
  },
  {
   "cell_type": "code",
   "execution_count": 261,
   "id": "ba20614f",
   "metadata": {},
   "outputs": [
    {
     "data": {
      "text/plain": [
       "array([[1],\n",
       "       [2],\n",
       "       [3]])"
      ]
     },
     "execution_count": 261,
     "metadata": {},
     "output_type": "execute_result"
    }
   ],
   "source": [
    "b = np.array([[1],[2],[3]])\n",
    "b"
   ]
  },
  {
   "cell_type": "code",
   "execution_count": 262,
   "id": "3f109bb4",
   "metadata": {},
   "outputs": [
    {
     "data": {
      "text/plain": [
       "array([[ 2,  3,  4],\n",
       "       [ 6,  7,  8],\n",
       "       [10, 11, 12]])"
      ]
     },
     "execution_count": 262,
     "metadata": {},
     "output_type": "execute_result"
    }
   ],
   "source": [
    "a+b"
   ]
  },
  {
   "cell_type": "code",
   "execution_count": 264,
   "id": "56a3c751",
   "metadata": {},
   "outputs": [
    {
     "data": {
      "text/plain": [
       "((3, 4), (3,))"
      ]
     },
     "execution_count": 264,
     "metadata": {},
     "output_type": "execute_result"
    }
   ],
   "source": [
    "a = np.arange(12).reshape(3,4)\n",
    "b = np.array([1,2,3])\n",
    "# a = (3,4)\n",
    "# b = (3,)\n",
    "# broadcast => (3,4) (3,1) => (3,4) (3,4) => will not work\n",
    "a.shape,b.shape"
   ]
  },
  {
   "cell_type": "code",
   "execution_count": null,
   "id": "de4b5626",
   "metadata": {},
   "outputs": [],
   "source": [
    "(8,1,6,1)  (7,1,5) =>\n",
    "\n",
    "(8,1,6,1) \n",
    "(1,7,1,5)\n",
    "\n",
    "(8,7,6,5) # final ans\n"
   ]
  },
  {
   "cell_type": "code",
   "execution_count": null,
   "id": "8c165ce0",
   "metadata": {},
   "outputs": [],
   "source": []
  }
 ],
 "metadata": {
  "kernelspec": {
   "display_name": "Python 3 (ipykernel)",
   "language": "python",
   "name": "python3"
  },
  "language_info": {
   "codemirror_mode": {
    "name": "ipython",
    "version": 3
   },
   "file_extension": ".py",
   "mimetype": "text/x-python",
   "name": "python",
   "nbconvert_exporter": "python",
   "pygments_lexer": "ipython3",
   "version": "3.11.5"
  }
 },
 "nbformat": 4,
 "nbformat_minor": 5
}
